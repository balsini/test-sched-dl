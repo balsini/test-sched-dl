{
 "cells": [
  {
   "cell_type": "markdown",
   "metadata": {},
   "source": [
    "# Target configuration"
   ]
  },
  {
   "cell_type": "code",
   "execution_count": 1,
   "metadata": {
    "collapsed": true
   },
   "outputs": [],
   "source": [
    "# Target configuration\n",
    "conf = {\n",
    "    \n",
    "    # Target type\n",
    "    \"platform\"    : 'linux',\n",
    "    \"board\"       : \"sabre\",\n",
    "    \n",
    "    # Login credentials\n",
    "    \"host\"        : \"192.168.10.135\",\n",
    "    \"username\"    : \"root\",\n",
    "    \"password\"    : \"temppwd\",\n",
    "\n",
    "    # Binary tools required to run this experiment\n",
    "    # These tools must be present in the tools/ folder for the architecture\n",
    "    \"tools\"   : ['taskset', 'trace-cmd'],\n",
    "    \n",
    "    # FTrace events end buffer configuration\n",
    "    \"ftrace\"  : {\n",
    "         \"events\" : [\n",
    "             \"sched_switch\",\n",
    "             \"sched_wakeup_new\",\n",
    "             \"sched_wakeup\",\n",
    "             \"sched_deadline_suspend\",\n",
    "             \"sched_deadline_replenish\",\n",
    "             \"cpu_frequency\",\n",
    "             \"sched_dl_grub\",\n",
    "             \"sched_load_avg_task\",\n",
    "         ],\n",
    "         \"buffsize\" : 10240\n",
    "    },\n",
    "    \n",
    "    \"emeter\" : {\n",
    "        \"instrument\" : \"acme\",\n",
    "        \"conf\" : {\n",
    "            # Absolute path to the iio-capture binary on the host\n",
    "            'iio-capture' : '/usr/bin/iio-capture',\n",
    "            # Default host name of the BeagleBone Black\n",
    "            'ip_address'     : '192.168.10.118',\n",
    "        },\n",
    "        \"channel_map\" : {\n",
    "            \"Device0\" : 0, # iio:device0\n",
    "        }\n",
    "    },\n",
    "}\n",
    "\n",
    "cpu_number = 4"
   ]
  },
  {
   "cell_type": "code",
   "execution_count": 2,
   "metadata": {
    "collapsed": true
   },
   "outputs": [],
   "source": [
    "import logging\n",
    "reload(logging)\n",
    "logging.basicConfig(\n",
    "    format='%(asctime)-9s %(levelname)-8s: %(message)s',\n",
    "    datefmt='%I:%M:%S')\n",
    "\n",
    "# Enable logging at INFO level\n",
    "logging.getLogger().setLevel(logging.DEBUG)"
   ]
  },
  {
   "cell_type": "code",
   "execution_count": 3,
   "metadata": {
    "collapsed": true
   },
   "outputs": [],
   "source": [
    "# Execute this cell to enabled devlib debugging statements\n",
    "logging.getLogger('ssh').setLevel(logging.DEBUG)"
   ]
  },
  {
   "cell_type": "code",
   "execution_count": 4,
   "metadata": {},
   "outputs": [
    {
     "name": "stdout",
     "output_type": "stream",
     "text": [
      "Populating the interactive namespace from numpy and matplotlib\n"
     ]
    }
   ],
   "source": [
    "# Generate plots inline\n",
    "%pylab inline\n",
    "\n",
    "# Other python modules required by this notebook\n",
    "import json\n",
    "import os\n",
    "import shutil"
   ]
  },
  {
   "cell_type": "code",
   "execution_count": 5,
   "metadata": {},
   "outputs": [
    {
     "name": "stderr",
     "output_type": "stream",
     "text": [
      "/usr/lib/python2.7/dist-packages/gtk-2.0/gtk/__init__.py:57: GtkWarning: could not open display\n",
      "  warnings.warn(str(e), _gtk.Warning)\n",
      "08:44:43  WARNING : Unusual max capacity (1023), overriding capacity_scale\n",
      "08:44:43  INFO    : Using base path: /lisa\n",
      "08:44:43  INFO    : Loading custom (inline) target configuration\n",
      "08:44:43  DEBUG   : Target configuration {'username': 'root', 'platform': 'linux', 'host': '192.168.10.135', 'ftrace': {'buffsize': 10240, 'events': ['sched_switch', 'sched_wakeup_new', 'sched_wakeup', 'sched_deadline_suspend', 'sched_deadline_replenish', 'cpu_frequency', 'sched_dl_grub', 'sched_load_avg_task']}, 'board': 'sabre', 'password': 'temppwd', 'tools': ['taskset', 'trace-cmd'], 'emeter': {'instrument': 'acme', 'channel_map': {'Device0': 0}, 'conf': {'iio-capture': '/usr/bin/iio-capture', 'ip_address': '192.168.10.118'}}}\n",
      "08:44:43  DEBUG   : Trying to load board descriptor from /lisa/libs/utils/platforms/sabre.json\n",
      "08:44:43  INFO    : Loading board:\n",
      "08:44:43  INFO    :    /lisa/libs/utils/platforms/sabre.json\n",
      "08:44:43  DEBUG   : loading JSON...\n",
      "08:44:43  DEBUG   : Loaded JSON configuration:\n",
      "08:44:43  DEBUG   :    {u'board': {u'cores': [u'A9', u'A9', u'A9', u'A9'], u'modules': [u'cpufreq']}}\n",
      "08:44:43  INFO    : Devlib modules to load: [u'cpufreq']\n",
      "08:44:43  INFO    : Connecting linux target:\n",
      "08:44:43  INFO    :   username : root\n",
      "08:44:43  INFO    :       host : 192.168.10.135\n",
      "08:44:43  INFO    :   password : temppwd\n",
      "08:44:43  INFO    : Connection settings:\n",
      "08:44:43  INFO    :    {'username': 'root', 'host': '192.168.10.135', 'password': 'temppwd'}\n",
      "08:44:43  DEBUG   : Setup LINUX target...\n",
      "08:44:43  DEBUG   : Logging in root@192.168.10.135\n",
      "08:44:45  DEBUG   : id\n",
      "08:44:45  DEBUG   : if [ -e '/root/devlib-target/bin' ]; then echo 1; else echo 0; fi\n",
      "08:44:46  DEBUG   : ls -1 /root/devlib-target/bin\n",
      "08:44:46  DEBUG   : uname -m\n",
      "08:44:46  DEBUG   : if [ -e '/sys/devices/system/cpu/cpufreq' ]; then echo 1; else echo 0; fi\n",
      "08:44:46  DEBUG   : Installing module cpufreq\n",
      "08:44:46  DEBUG   : Checking target connection...\n",
      "08:44:46  DEBUG   : Target info:\n",
      "08:44:46  DEBUG   :       ABI: armeabi\n",
      "08:44:47  DEBUG   : cat /proc/cpuinfo\n",
      "08:44:47  DEBUG   :      CPUs: CpuInfo(['A9', 'A9', 'A9', 'A9'])\n",
      "08:44:47  DEBUG   :  Clusters: [0, 0, 0, 0]\n",
      "08:44:47  INFO    : Initializing target workdir:\n",
      "08:44:47  INFO    :    /root/devlib-target\n",
      "08:44:47  DEBUG   : mkdir -p /root/devlib-target\n",
      "08:44:47  DEBUG   : mkdir -p /root/devlib-target/bin\n",
      "08:44:47  DEBUG   : /usr/bin/scp -r   /lisa/libs/devlib/devlib/bin/armeabi/busybox root@192.168.10.135:/root/devlib-target/bin/busybox\n",
      "08:44:48  DEBUG   : chmod a+x /root/devlib-target/bin/busybox\n",
      "08:44:48  DEBUG   : /usr/bin/scp -r   /lisa/libs/devlib/devlib/bin/scripts/shutils root@192.168.10.135:/root/devlib-target/bin/shutils\n",
      "08:44:49  DEBUG   : chmod a+x /root/devlib-target/bin/shutils\n",
      "08:44:49  DEBUG   : /usr/bin/scp -r   /lisa/tools/armeabi/trace-cmd root@192.168.10.135:/root/devlib-target/bin/trace-cmd\n",
      "08:44:50  DEBUG   : chmod a+x /root/devlib-target/bin/trace-cmd\n",
      "08:44:50  DEBUG   : /usr/bin/scp -r   /lisa/tools/armeabi/taskset root@192.168.10.135:/root/devlib-target/bin/taskset\n",
      "08:44:51  DEBUG   : chmod a+x /root/devlib-target/bin/taskset\n",
      "08:44:51  DEBUG   : Check for module [cpufreq]...\n",
      "08:44:51  INFO    : Attempting to read energy model from target\n",
      "08:44:51  ERROR   : Couldn't read target energy model: Requires cpuidle devlib module. Please ensure \"cpuidle\" is listed in your target/test modules\n",
      "08:44:51  INFO    : Topology:\n",
      "08:44:51  INFO    :    [[0, 1, 2, 3]]\n",
      "08:44:51  DEBUG   : cat /sys/devices/system/cpu/cpu0/cpufreq/scaling_available_frequencies\n",
      "08:44:52  DEBUG   : Trying to load default EM from /lisa/libs/utils/platforms/sabre.json\n",
      "08:44:52  INFO    : Loading default EM:\n",
      "08:44:52  INFO    :    /lisa/libs/utils/platforms/sabre.json\n",
      "08:44:52  DEBUG   : loading JSON...\n",
      "08:44:52  DEBUG   : Loaded JSON configuration:\n",
      "08:44:52  DEBUG   :    {u'board': {u'cores': [u'A9', u'A9', u'A9', u'A9'], u'modules': [u'cpufreq']}}\n",
      "08:44:52  DEBUG   : /root/devlib-target/bin/busybox uname -r -v\n",
      "08:44:52  DEBUG   : Platform descriptor initialized\n",
      "{'kernel': {'version_number': 4, 'sha1': '0a9e602', 'major': 11, 'parts': (4, 11, 0), 'version': '12 SMP Fri May 26 17:33:46 CEST 2017', 'rc': 6, 'release': '4.11.0-rc6-00078-g0a9e602', 'minor': 0}, 'abi': 'armeabi', 'freqs': {0: [396000, 792000, 996000]}, 'nrg_model': None, 'clusters': {0: [0, 1, 2, 3]}, 'cpus_count': 4, 'os': 'linux', 'topology': [[0, 1, 2, 3]]}\n",
      "08:44:52  DEBUG   : /usr/bin/scp -r   /lisa/libs/devlib/devlib/bin/armeabi/trace-cmd root@192.168.10.135:/root/devlib-target/bin/trace-cmd\n",
      "08:44:53  DEBUG   : chmod a+x /root/devlib-target/bin/trace-cmd\n",
      "08:44:53  DEBUG   : cat /sys/kernel/debug/tracing/available_events\n",
      "08:44:53  WARNING : Event [sched_deadline_suspend] not available for tracing\n",
      "08:44:53  WARNING : Event [sched_deadline_replenish] not available for tracing\n",
      "08:44:53  WARNING : Event [sched_load_avg_task] not available for tracing\n",
      "08:44:53  INFO    : Enabled tracepoints:\n",
      "08:44:53  INFO    :    sched_switch\n",
      "08:44:53  INFO    :    sched_wakeup_new\n",
      "08:44:53  INFO    :    sched_wakeup\n",
      "08:44:53  INFO    :    sched_deadline_suspend\n",
      "08:44:53  INFO    :    sched_deadline_replenish\n",
      "08:44:53  INFO    :    cpu_frequency\n",
      "08:44:53  INFO    :    sched_dl_grub\n",
      "08:44:53  INFO    :    sched_load_avg_task\n",
      "08:44:53  DEBUG   : No RT-App workloads, skipping calibration\n",
      "08:44:53  DEBUG   : using user-defined configuration\n",
      "08:44:53  INFO    : ACME configuration:\n",
      "08:44:53  INFO    :     binary: /usr/bin/iio-capture\n",
      "08:44:53  INFO    :     device: 192.168.10.118\n",
      "08:44:53  INFO    :   channels:\n",
      "08:44:53  INFO    :      Device0 (iio:device0)\n",
      "08:44:53  DEBUG   : Results dir: /lisa/results/20170620_084453\n",
      "08:44:53  INFO    : Set results folder to:\n",
      "08:44:53  INFO    :    /lisa/results/20170620_084453\n",
      "08:44:53  INFO    : Experiment results available also in:\n",
      "08:44:53  INFO    :    /lisa/results_latest\n"
     ]
    }
   ],
   "source": [
    " #Support to access the remote target\n",
    "from env import TestEnv\n",
    "\n",
    "# Initialize a test environment\n",
    "te = TestEnv(conf)\n",
    "target = te.target"
   ]
  },
  {
   "cell_type": "code",
   "execution_count": 6,
   "metadata": {
    "collapsed": true
   },
   "outputs": [],
   "source": [
    "def execute(te, target_test_dir, target_test_command, target_res_dir, host_res_dir):\n",
    "    \n",
    "    logging.info('# Create results folder for this execution')\n",
    "    !rm -fr {host_res_dir}\n",
    "    !mkdir {host_res_dir}\n",
    "\n",
    "    logging.info('### Entering directory...')\n",
    "    te.target.execute(\"cd \" + target_test_dir)\n",
    "    \n",
    "    logging.info('## Start energy sampling')\n",
    "    te.emeter.reset()   \n",
    "    \n",
    "    logging.info('### Running command...')\n",
    "    te.target.execute(target_test_command)\n",
    "  \n",
    "    #logging.info('## Read energy consumption: %s/energy.json', host_res_dir)\n",
    "    # This also creates the Samples file\n",
    "    nrg_report = te.emeter.report(out_dir=host_res_dir)\n",
    "\n",
    "    host_trace_file = os.path.join(host_res_dir, 'trace.dat')\n",
    "    target_trace_file = os.path.join(target_res_dir, 'trace.dat')\n",
    "    logging.info('# Save FTrace: %s', host_trace_file)\n",
    "    te.ftrace.target.pull(target_trace_file, host_res_dir, timeout=100)\n",
    " \n",
    "    logging.info('# Save platform description: %s/platform.json', host_res_dir)\n",
    "    plt, plt_file = te.platform_dump(host_res_dir)\n",
    "    \n",
    "    logging.info('# Report collected data:')\n",
    "    logging.info('   %s', host_res_dir)\n",
    "    !ls -la {host_res_dir}\n",
    "    \n",
    "    return plt, plt_file, host_trace_file, nrg_report"
   ]
  },
  {
   "cell_type": "markdown",
   "metadata": {},
   "source": [
    "# Test (schedutil)"
   ]
  },
  {
   "cell_type": "code",
   "execution_count": 7,
   "metadata": {},
   "outputs": [
    {
     "name": "stderr",
     "output_type": "stream",
     "text": [
      "08:44:54  DEBUG   : /root/devlib-target/bin/shutils cpufreq_set_all_governors schedutil\n"
     ]
    }
   ],
   "source": [
    "# Test name\n",
    "#test_name = \"T0015-fixed-load\"\n",
    "test_name = \"T0005-change-param-run\"\n",
    "#test_name = \"T0003-two-tasks\"\n",
    "\n",
    "# Set schedutil governor\n",
    "target.cpufreq.set_all_governors('schedutil')\n",
    "\n",
    "# Target's main directory containing the testsuite \n",
    "target_test_dir =\"/home/ubuntu/test-dl/\"\n",
    "\n",
    "# Target's command to run the test\n",
    "target_test_command = \"sudo ./run.sh \" + test_name\n",
    "\n",
    "# Target's command to run the test\n",
    "target_res_dir = os.path.join(\"/home/ubuntu/test-dl/\", test_name);\n",
    "\n",
    "# Host's directory that will contain the test results\n",
    "host_res_dir = \"/tmp/test-dl/\""
   ]
  },
  {
   "cell_type": "code",
   "execution_count": 8,
   "metadata": {},
   "outputs": [
    {
     "name": "stderr",
     "output_type": "stream",
     "text": [
      "08:44:54  INFO    : # Create results folder for this execution\n",
      "08:44:54  INFO    : ### Entering directory...\n",
      "08:44:54  DEBUG   : cd /home/ubuntu/test-dl/\n",
      "08:44:54  INFO    : ## Start energy sampling\n",
      "08:44:55  DEBUG   : Started /usr/bin/iio-capture on Device0 (iio:device0)...\n",
      "08:44:55  INFO    : ### Running command...\n",
      "08:44:56  DEBUG   : sudo ./run.sh T0005-change-param-run\n",
      "08:45:24  DEBUG   : Completed IIOCapture for Device0 (iio:device0)...\n",
      "08:45:24  DEBUG   : Device0 (iio:device0)\n",
      "08:45:24  DEBUG   : {'cmin': 340.0, 'energy': 52361.5, 'pavg': 2234.17, 'pmin': 1725.0, 'vmax': 5067.5, 'cmax': 871.0, 'pmax': 4225.0}\n",
      "08:45:24  INFO    : # Save FTrace: /tmp/test-dl/trace.dat\n",
      "08:45:24  DEBUG   : /usr/bin/scp -r   root@192.168.10.135:/home/ubuntu/test-dl/T0005-change-param-run/trace.dat /tmp/test-dl/\n",
      "08:45:25  INFO    : # Save platform description: /tmp/test-dl//platform.json\n",
      "08:45:25  DEBUG   : Dump platform descriptor in [/tmp/test-dl/platform.json]\n",
      "08:45:25  INFO    : # Report collected data:\n",
      "08:45:25  INFO    :    /tmp/test-dl/\n"
     ]
    },
    {
     "name": "stdout",
     "output_type": "stream",
     "text": [
      "total 4648\r\n",
      "drwxrwxr-x  2 lisa lisa    4096 Jun 20 08:45 .\r\n",
      "drwxrwxrwt 24 root root    4096 Jun 20 08:44 ..\r\n",
      "-rw-rw-r--  1 lisa lisa      26 Jun 20 08:45 energy.json\r\n",
      "-rw-rw-r--  1 lisa lisa     201 Jun 20 08:45 energy_stats.json\r\n",
      "-rw-rw-r--  1 lisa lisa     748 Jun 20 08:45 platform.json\r\n",
      "-rw-rw-r--  1 lisa lisa  182426 Jun 20 08:45 samples_Device0.csv\r\n",
      "-rw-r--r--  1 lisa lisa 4554752 Jun 20 08:45 trace.dat\r\n"
     ]
    }
   ],
   "source": [
    "plt, plt_file, trace_file, nrg_report = execute(te, target_test_dir, target_test_command, target_res_dir, host_res_dir)"
   ]
  },
  {
   "cell_type": "code",
   "execution_count": 9,
   "metadata": {
    "collapsed": true
   },
   "outputs": [],
   "source": [
    "!kernelshark {trace_file} 2>/dev/null"
   ]
  },
  {
   "cell_type": "code",
   "execution_count": 10,
   "metadata": {
    "collapsed": true
   },
   "outputs": [],
   "source": [
    "# Support for trace events analysis\n",
    "from trace import Trace\n",
    "\n",
    "# Suport for FTrace events parsing and visualization\n",
    "import trappy"
   ]
  },
  {
   "cell_type": "code",
   "execution_count": 11,
   "metadata": {},
   "outputs": [
    {
     "name": "stderr",
     "output_type": "stream",
     "text": [
      "08:45:26  DEBUG   : Loading [sched] events from trace in [/tmp/test-dl/]...\n",
      "08:45:26  DEBUG   : Parsing events: ['sched_switch', 'sched_wakeup_new', 'sched_wakeup', 'sched_deadline_suspend', 'sched_deadline_replenish', 'cpu_frequency', 'sched_dl_grub', 'sched_load_avg_task', 'cpu_frequency_devlib']\n",
      "08:45:26  DEBUG   : Parsing FTrace format...\n",
      "08:45:26  DEBUG   : Events found on trace:\n",
      "08:45:26  DEBUG   :  - sched_dl_grub\n",
      "08:45:26  DEBUG   :  - cpu_frequency\n",
      "08:45:26  DEBUG   :  - sched_wakeup_new\n",
      "08:45:26  DEBUG   :  - sched_switch\n",
      "08:45:26  DEBUG   :  - sched_wakeup\n",
      "08:45:26  DEBUG   : Lookup dataset for tasks...\n",
      "08:45:26  DEBUG   : Lookup for task [swapper/0]...\n",
      "08:45:26  DEBUG   :   task        swapper/0 found, pid: [0]\n",
      "08:45:26  DEBUG   : Lookup for task [run.sh]...\n",
      "08:45:26  DEBUG   :   task           run.sh found, pid: [21111, 21121, 21122, 21124, 21125, 21126, 21127, 21128]\n",
      "08:45:26  DEBUG   : Lookup for task [rcu_sched]...\n",
      "08:45:26  DEBUG   :   task        rcu_sched found, pid: [8]\n",
      "08:45:26  DEBUG   : Lookup for task [swapper/3]...\n",
      "08:45:26  DEBUG   :   task        swapper/3 found, pid: [0]\n",
      "08:45:26  DEBUG   : Lookup for task [swapper/1]...\n",
      "08:45:26  DEBUG   :   task        swapper/1 found, pid: [0]\n",
      "08:45:26  DEBUG   : Lookup for task [kworker/3:1]...\n",
      "08:45:26  DEBUG   :   task      kworker/3:1 found, pid: [70]\n",
      "08:45:26  DEBUG   : Lookup for task [mmcqd/0]...\n",
      "08:45:26  DEBUG   :   task          mmcqd/0 found, pid: [157]\n",
      "08:45:26  DEBUG   : Lookup for task [kworker/1:1H]...\n",
      "08:45:26  DEBUG   :   task     kworker/1:1H found, pid: [164]\n",
      "08:45:26  DEBUG   : Lookup for task [apache2]...\n",
      "08:45:26  DEBUG   :   task          apache2 found, pid: [678, 736, 728]\n",
      "08:45:26  DEBUG   : Lookup for task [T0005-change-pa]...\n",
      "08:45:26  DEBUG   :   task  T0005-change-pa found, pid: [21123]\n",
      "08:45:26  DEBUG   : Lookup for task [swapper/2]...\n",
      "08:45:26  DEBUG   :   task        swapper/2 found, pid: [0]\n",
      "08:45:26  DEBUG   : Lookup for task [kworker/1:3]...\n",
      "08:45:26  DEBUG   :   task      kworker/1:3 found, pid: [20918]\n",
      "08:45:26  DEBUG   : Lookup for task [sugov:0]...\n",
      "08:45:26  DEBUG   :   task          sugov:0 found, pid: [159]\n",
      "08:45:26  DEBUG   : Lookup for task [kworker/2:0]...\n",
      "08:45:26  DEBUG   :   task      kworker/2:0 found, pid: [21017]\n",
      "08:45:26  DEBUG   : Lookup for task [ksoftirqd/2]...\n",
      "08:45:26  DEBUG   :   task      ksoftirqd/2 found, pid: [19]\n",
      "08:45:26  DEBUG   : Lookup for task [avahi-daemon]...\n",
      "08:45:26  DEBUG   :   task     avahi-daemon found, pid: [472]\n",
      "08:45:26  DEBUG   : Lookup for task [kworker/0:2]...\n",
      "08:45:26  DEBUG   :   task      kworker/0:2 found, pid: [20939]\n",
      "08:45:26  DEBUG   : Lookup for task [kworker/u8:0]...\n",
      "08:45:26  DEBUG   :   task     kworker/u8:0 found, pid: [5]\n",
      "08:45:26  DEBUG   : Lookup for task [ksoftirqd/0]...\n",
      "08:45:26  DEBUG   :   task      ksoftirqd/0 found, pid: [7]\n",
      "08:45:26  DEBUG   : Lookup for task [kworker/2:1H]...\n",
      "08:45:26  DEBUG   :   task     kworker/2:1H found, pid: [211]\n",
      "08:45:26  DEBUG   : Lookup for task [sleep]...\n",
      "08:45:26  DEBUG   :   task            sleep found, pid: [21122, 21125]\n",
      "08:45:26  DEBUG   : Lookup for task [sshd]...\n",
      "08:45:26  DEBUG   :   task             sshd found, pid: [20965]\n",
      "08:45:26  DEBUG   : Lookup for task [kworker/3:3]...\n",
      "08:45:26  DEBUG   :   task      kworker/3:3 found, pid: [20896]\n",
      "08:45:26  DEBUG   : Lookup for task [killall]...\n",
      "08:45:26  DEBUG   :   task          killall found, pid: [21124]\n",
      "08:45:26  DEBUG   : Lookup for task [jbd2/mmcblk0p1-]...\n",
      "08:45:26  DEBUG   :   task  jbd2/mmcblk0p1- found, pid: [165]\n",
      "08:45:26  DEBUG   : Lookup for task [systemd-timesyn]...\n",
      "08:45:26  DEBUG   :   task  systemd-timesyn found, pid: [303]\n",
      "08:45:26  DEBUG   : Lookup for task [systemd-udevd]...\n",
      "08:45:26  DEBUG   :   task    systemd-udevd found, pid: [208]\n",
      "08:45:26  DEBUG   : Lookup for task [systemd]...\n",
      "08:45:26  DEBUG   :   task          systemd found, pid: [1]\n",
      "08:45:26  DEBUG   : Lookup for task [ksoftirqd/3]...\n",
      "08:45:26  DEBUG   :   task      ksoftirqd/3 found, pid: [24]\n",
      "08:45:26  DEBUG   : Lookup for task [dmesg]...\n",
      "08:45:26  DEBUG   :   task            dmesg found, pid: [21126]\n",
      "08:45:26  DEBUG   : Collected events spans a 13.115 [s] time interval\n",
      "08:45:26  DEBUG   : Set plots time range to (0.000000, 13.115140)[s]\n",
      "08:45:26  DEBUG   : Registering [<trace.Trace object at 0x7fc3a2a9dcd0>] local data frames\n",
      "08:45:26  DEBUG   :    functions_stats\n",
      "08:45:26  DEBUG   :    trace_event\n",
      "08:45:26  DEBUG   : Analysis: /lisa/libs/utils/analysis\n",
      "08:45:26  DEBUG   : Syspath: ['/lisa/libs/utils/analysis', '', '/lisa/libs/bart', '/lisa/libs/trappy', '/lisa/libs/devlib', '/lisa', '/lisa/libs/wlgen', '/lisa/libs/utils', '/lisa/ipynb', '/usr/lib/python2.7', '/usr/lib/python2.7/plat-x86_64-linux-gnu', '/usr/lib/python2.7/lib-tk', '/usr/lib/python2.7/lib-old', '/usr/lib/python2.7/lib-dynload', '/usr/local/lib/python2.7/dist-packages', '/usr/lib/python2.7/dist-packages', '/usr/lib/python2.7/dist-packages/PILcompat', '/usr/lib/python2.7/dist-packages/gtk-2.0', '/usr/local/lib/python2.7/dist-packages/IPython/extensions', '/home/lisa/.ipython']\n",
      "08:45:26  DEBUG   : Registering trace analysis modules:\n",
      "08:45:26  DEBUG   : Filename: idle_analysis\n",
      "08:45:26  DEBUG   : Platform data without Energy Model info\n",
      "08:45:26  DEBUG   : Parsing SMP clusters\n",
      "08:45:26  DEBUG   : Registering [<idle_analysis.IdleAnalysis object at 0x7fc3a2a941d0>] local data frames\n",
      "08:45:26  DEBUG   :    cluster_idle_state_residency\n",
      "08:45:26  DEBUG   :    cpu_idle_state_residency\n",
      "08:45:26  DEBUG   :    trace_event\n",
      "08:45:26  DEBUG   :    idle\n",
      "08:45:26  DEBUG   : Filename: functions_analysis\n",
      "08:45:26  DEBUG   : Platform data without Energy Model info\n",
      "08:45:26  DEBUG   : Parsing SMP clusters\n",
      "08:45:26  DEBUG   : Registering [<functions_analysis.FunctionsAnalysis object at 0x7fc3a2a30e90>] local data frames\n",
      "08:45:26  DEBUG   :    trace_event\n",
      "08:45:26  DEBUG   :    functions\n",
      "08:45:26  DEBUG   : Filename: frequency_analysis\n",
      "08:45:26  DEBUG   : Platform data without Energy Model info\n",
      "08:45:26  DEBUG   : Parsing SMP clusters\n",
      "08:45:26  DEBUG   : Registering [<frequency_analysis.FrequencyAnalysis object at 0x7fc3a29a06d0>] local data frames\n",
      "08:45:26  DEBUG   :    cluster_frequency_residency\n",
      "08:45:26  DEBUG   :    cpu_frequency_residency\n",
      "08:45:26  DEBUG   :    trace_event\n",
      "08:45:26  DEBUG   :    frequency\n",
      "08:45:26  DEBUG   : Filename: cpus_analysis\n",
      "08:45:26  DEBUG   : Platform data without Energy Model info\n",
      "08:45:26  DEBUG   : Parsing SMP clusters\n",
      "08:45:26  DEBUG   : Registering [<cpus_analysis.CpusAnalysis object at 0x7fc3a29a0b90>] local data frames\n",
      "08:45:26  DEBUG   :    context_switches\n",
      "08:45:26  DEBUG   :    trace_event\n",
      "08:45:26  DEBUG   :    cpus\n",
      "08:45:26  DEBUG   : Filename: status_analysis\n",
      "08:45:26  DEBUG   : Platform data without Energy Model info\n",
      "08:45:26  DEBUG   : Parsing SMP clusters\n",
      "08:45:26  DEBUG   : Registering [<status_analysis.StatusAnalysis object at 0x7fc3a29a0bd0>] local data frames\n",
      "08:45:26  DEBUG   :    overutilized\n",
      "08:45:26  DEBUG   :    trace_event\n",
      "08:45:26  DEBUG   :    status\n",
      "08:45:26  DEBUG   : Filename: tasks_analysis\n",
      "08:45:26  DEBUG   : Platform data without Energy Model info\n",
      "08:45:27  DEBUG   : Parsing SMP clusters\n",
      "08:45:27  DEBUG   : Registering [<tasks_analysis.TasksAnalysis object at 0x7fc3a2aa7950>] local data frames\n",
      "08:45:27  DEBUG   :    rt_tasks\n",
      "08:45:27  DEBUG   :    top_big_tasks\n",
      "08:45:27  DEBUG   :    top_wakeup_tasks\n",
      "08:45:27  DEBUG   :    trace_event\n",
      "08:45:27  DEBUG   :    tasks\n",
      "08:45:27  DEBUG   : Filename: latency_analysis\n",
      "08:45:27  DEBUG   : Platform data without Energy Model info\n",
      "08:45:27  DEBUG   : Parsing SMP clusters\n",
      "08:45:27  DEBUG   : Registering [<latency_analysis.LatencyAnalysis object at 0x7fc3a2a342d0>] local data frames\n",
      "08:45:27  DEBUG   :    activations_df\n",
      "08:45:27  DEBUG   :    latency_df\n",
      "08:45:27  DEBUG   :    latency_preemption_df\n",
      "08:45:27  DEBUG   :    latency_wakeup_df\n",
      "08:45:27  DEBUG   :    runtimes_df\n",
      "08:45:27  DEBUG   :    trace_event\n",
      "08:45:27  DEBUG   :    latency\n",
      "08:45:27  DEBUG   : Filename: eas_analysis\n",
      "08:45:27  DEBUG   : Platform data without Energy Model info\n",
      "08:45:27  DEBUG   : Parsing SMP clusters\n",
      "08:45:27  DEBUG   : Registering [<eas_analysis.EasAnalysis object at 0x7fc3a2a34f50>] local data frames\n"
     ]
    },
    {
     "name": "stderr",
     "output_type": "stream",
     "text": [
      "08:45:27  DEBUG   :    trace_event\n",
      "08:45:27  DEBUG   :    eas\n"
     ]
    }
   ],
   "source": [
    "# Parse trace\n",
    "# This will create trace.txt\n",
    "tr = Trace(te.platform, \n",
    "           host_res_dir,\n",
    "           events=conf['ftrace']['events'])"
   ]
  },
  {
   "cell_type": "markdown",
   "metadata": {},
   "source": [
    "### Plot frequency"
   ]
  },
  {
   "cell_type": "code",
   "execution_count": 12,
   "metadata": {},
   "outputs": [
    {
     "name": "stderr",
     "output_type": "stream",
     "text": [
      "08:45:27  WARNING : Event [sched_overutilized] not found, plot DISABLED!\n",
      "08:45:27  INFO    : CPU00 average frequency: 0.894 GHz\n",
      "08:45:27  WARNING : Event [sched_overutilized] not found, plot DISABLED!\n",
      "08:45:27  INFO    : CPU01 average frequency: 0.894 GHz\n",
      "08:45:27  WARNING : Event [sched_overutilized] not found, plot DISABLED!\n",
      "08:45:27  INFO    : CPU02 average frequency: 0.894 GHz\n",
      "08:45:27  WARNING : Event [sched_overutilized] not found, plot DISABLED!\n",
      "08:45:27  INFO    : CPU03 average frequency: 0.894 GHz\n"
     ]
    },
    {
     "data": {
      "text/plain": [
       "{0: 0.89400000000000002,\n",
       " 1: 0.89400000000000002,\n",
       " 2: 0.89400000000000002,\n",
       " 3: 0.89400000000000002}"
      ]
     },
     "execution_count": 12,
     "metadata": {},
     "output_type": "execute_result"
    },
    {
     "data": {
      "image/png": "[encoded data removed]",
      "text/plain": [
       "<matplotlib.figure.Figure at 0x7fc3a2a9db50>"
      ]
     },
     "metadata": {},
     "output_type": "display_data"
    }
   ],
   "source": [
    "tr.analysis.frequency.plotCPUFrequencies()"
   ]
  },
  {
   "cell_type": "markdown",
   "metadata": {},
   "source": [
    "### Plot execution"
   ]
  },
  {
   "cell_type": "code",
   "execution_count": 13,
   "metadata": {
    "collapsed": true
   },
   "outputs": [],
   "source": [
    "#tr.analysis.tasks.plotTasks()"
   ]
  },
  {
   "cell_type": "code",
   "execution_count": 14,
   "metadata": {
    "scrolled": false
   },
   "outputs": [
    {
     "data": {
      "text/html": [
       "<style>\n",
       "/*\n",
       " *    Copyright 2015-2016 ARM Limited\n",
       " *\n",
       " * Licensed under the Apache License, Version 2.0 (the \"License\");\n",
       " * you may not use this file except in compliance with the License.\n",
       " * You may obtain a copy of the License at\n",
       " *\n",
       " *     http://www.apache.org/licenses/LICENSE-2.0\n",
       " *\n",
       " * Unless required by applicable law or agreed to in writing, software\n",
       " * distributed under the License is distributed on an \"AS IS\" BASIS,\n",
       " * WITHOUT WARRANTIES OR CONDITIONS OF ANY KIND, either express or implied.\n",
       " * See the License for the specific language governing permissions and\n",
       " * limitations under the License.\n",
       " */\n",
       "\n",
       ".d3-tip {\n",
       "  line-height: 1;\n",
       "  padding: 12px;\n",
       "  background: rgba(0, 0, 0, 0.6);\n",
       "  color: #fff;\n",
       "  border-radius: 2px;\n",
       "  position: absolute !important;\n",
       "  z-index: 99999;\n",
       "}\n",
       "\n",
       ".d3-tip:after {\n",
       "  box-sizing: border-box;\n",
       "  pointer-events: none;\n",
       "  display: inline;\n",
       "  font-size: 10px;\n",
       "  width: 100%;\n",
       "  line-height: 1;\n",
       "  color: rgba(0, 0, 0, 0.6);\n",
       "  content: \"\\25BC\";\n",
       "  position: absolute !important;\n",
       "  z-index: 99999;\n",
       "  text-align: center;\n",
       "}\n",
       "\n",
       ".d3-tip.n:after {\n",
       "  margin: -1px 0 0 0;\n",
       "  top: 100%;\n",
       "  left: 0;\n",
       "}\n",
       "\n",
       ".contextRect {\n",
       "  fill: lightgray;\n",
       "  fill-opacity: 0.5;\n",
       "  stroke: black;\n",
       "  stroke-width: 1;\n",
       "  stroke-opacity: 1;\n",
       "  pointer-events: none;\n",
       "  shape-rendering: crispEdges;\n",
       "}\n",
       "\n",
       ".chart {\n",
       "  shape-rendering: crispEdges;\n",
       "}\n",
       "\n",
       ".mini text {\n",
       "  font: 9px sans-serif;\n",
       "}\n",
       "\n",
       ".main text {\n",
       "  font: 12px sans-serif;\n",
       "}\n",
       "\n",
       ".axis line, .axis path {\n",
       "  stroke: black;\n",
       "}\n",
       "\n",
       ".miniItem {\n",
       "  stroke-width: 8;\n",
       "}\n",
       "\n",
       ".brush .extent {\n",
       "\n",
       "  stroke: #000;\n",
       "  fill-opacity: .125;\n",
       "  shape-rendering: crispEdges;\n",
       "}\n",
       "</style>\n",
       "<div id=\"fig_9e19840bd3d3433c8d181dd1f72fd5e7\" class=\"eventplot\">\n",
       "<!-- TRAPPY_PUBLISH_SOURCE_LIB = \"https://cdnjs.cloudflare.com/ajax/libs/d3/3.5.6/d3.min.js\" -->\n",
       "<!-- TRAPPY_PUBLISH_SOURCE_LIB = \"http://labratrevenge.com/d3-tip/javascripts/d3.tip.v0.6.3.js\" -->\n",
       "\n",
       "        <script>\n",
       "            /* TRAPPY_PUBLISH_IMPORT = \"plotter/js/EventPlot.js\" */\n",
       "            /* TRAPPY_PUBLISH_REMOVE_START */\n",
       "            var req = require.config( {\n",
       "\n",
       "                paths: {\n",
       "\n",
       "                    \"EventPlot\": '/nbextensions/plotter_scripts/EventPlot/EventPlot',\n",
       "                    \"d3-tip\": '/nbextensions/plotter_scripts/EventPlot/d3.tip.v0.6.3',\n",
       "                    \"d3-plotter\": '/nbextensions/plotter_scripts/EventPlot/d3.min'\n",
       "                },\n",
       "                waitSeconds: 15,\n",
       "                shim: {\n",
       "                    \"d3-plotter\" : {\n",
       "                        \"exports\" : \"d3\"\n",
       "                    },\n",
       "                    \"d3-tip\": [\"d3-plotter\"],\n",
       "                    \"EventPlot\": {\n",
       "\n",
       "                        \"deps\": [\"d3-tip\", \"d3-plotter\" ],\n",
       "                        \"exports\":  \"EventPlot\"\n",
       "                    }\n",
       "                }\n",
       "            });\n",
       "            /* TRAPPY_PUBLISH_REMOVE_STOP */\n",
       "            \n",
       "        req([\"require\", \"EventPlot\"], function() { /* TRAPPY_PUBLISH_REMOVE_LINE */\n",
       "            EventPlot.generate('fig_9e19840bd3d3433c8d181dd1f72fd5e7', '/nbextensions/', {\"lanes\": [{\"id\": 0, \"label\": \"CPU :0\"}, {\"id\": 1, \"label\": \"CPU :1\"}, {\"id\": 2, \"label\": \"CPU :2\"}, {\"id\": 3, \"label\": \"CPU :3\"}], \"colorMap\": null, \"keys\": [\"run.sh-21121\", \"T0005-change-pa-21123\"], \"stride\": false, \"showSummary\": true, \"xDomain\": [0.00060400000006666232, 13.116326999999956], \"data\": {\"run.sh-21121\": {\"3\": [[0.015223999999989246, 0.019570000000157961], [0.019731999999976324, 0.020029000000022279], [0.023777999999992971, 0.024675999999999476], [0.024849000000131127, 10.069602000000032]]}, \"T0005-change-pa-21123\": {\"2\": [[0.03074800000013056, 0.031028000000105749], [1.0310329999999794, 1.0311590000001161], [2.0311510000001363, 2.0312619999999697], [3.0313240000000405, 3.0314530000000559], [4.0315270000000965, 4.0316569999999956], [5.0317270000000462, 5.0318500000000768], [6.0318429999999807, 6.031983000000082], [7.0319810000000871, 7.032118999999966], [8.0321910000000116, 8.0323240000000169], [9.0323889999999665, 9.0325170000000981], [10.032646000000113, 10.032844000000068], [10.069384000000127, 10.070324000000028]]}}});\n",
       "        }); /* TRAPPY_PUBLISH_REMOVE_LINE */\n",
       "        </script>\n",
       "        </div>"
      ],
      "text/plain": [
       "<IPython.core.display.HTML object>"
      ]
     },
     "metadata": {},
     "output_type": "display_data"
    }
   ],
   "source": [
    "df = tr.ftrace.sched_switch.data_frame\n",
    "a = df[df['__comm'].str.contains('T00')][['__pid']]\n",
    "pids_set=set([])\n",
    "for i in a.index:\n",
    "    pid = a.get_value(i, '__pid')\n",
    "    #print \"Adding pid \", pid\n",
    "    if isinstance(pid, int):\n",
    "        pids_set.add(pid)\n",
    "pids_list=list(pids_set)\n",
    "#print \"Plotting pids: \", pids_list\n",
    "trappy.plotter.plot_trace(host_res_dir, \"\", pids_list)"
   ]
  },
  {
   "cell_type": "markdown",
   "metadata": {},
   "source": [
    "### Plot GRUB total and active bw"
   ]
  },
  {
   "cell_type": "code",
   "execution_count": 15,
   "metadata": {
    "scrolled": false
   },
   "outputs": [
    {
     "name": "stdout",
     "output_type": "stream",
     "text": [
      "No data for cpu  0   No plots for the given constraints\n",
      "No data for cpu  1   No plots for the given constraints\n",
      "No data for cpu  2   No plots for the given constraints\n"
     ]
    },
    {
     "data": {
      "text/html": [
       "<table style=\"border-style: hidden;\">\n",
       "<tr>\n",
       "<td style=\"border-style: hidden;\"><div class=\"ilineplot\" id=\"fig_11aa3f9e1a8f48a59c90f6bddd5f620b\"></div></td>\n",
       "</tr>\n",
       "<tr>\n",
       "<td style=\"border-style: hidden;\"><div style=\"text-align:center\" id=\"fig_11aa3f9e1a8f48a59c90f6bddd5f620b_legend\"></div></td>\n",
       "</tr>\n",
       "</table>\n",
       "<script>\n",
       "var fig_11aa3f9e1a8f48a59c90f6bddd5f620b_data = {\"logscale\": false, \"strokeWidth\": 1.0, \"pointSize\": 2, \"name\": \"fig_11aa3f9e1a8f48a59c90f6bddd5f620b\", \"step_plot\": true, \"fill_graph\": false, \"title\": \"cpu_id: 3\", \"drawPoints\": false, \"per_line\": 1, \"height\": 400, \"rangesel\": false, \"data\": {\"labels\": [\"index\", \"Trace 0:sched_dl_grub:total_bw\", \"Trace 0:sched_dl_grub:running_bw\"], \"data\": [[0.029577000000017506, 349525, 0], [0.029579999999896245, 349525, 349525], [0.02962600000000748, 349525, 0], [0.029629999999997381, 0, 0], [0.029633999999987282, 786432, 0], [0.029635999999982232, 786432, 786432], [1.0298840000000382, 786432, 0], [1.029886999999917, 0, 0], [1.0298909999999069, 393216, 0], [1.0298929999999018, 393216, 393216], [2.0300039999999626, 393216, 0], [2.0300070000000687, 0, 0], [2.0300099999999475, 262144, 0], [2.0300119999999424, 262144, 262144], [3.0301810000000842, 262144, 0], [3.0301839999999629, 0, 0], [3.030189000000064, 196608, 0], [3.0301919999999427, 196608, 196608], [4.0303859999999077, 196608, 0], [4.0303890000000138, 0, 0], [4.0303930000000037, 157286, 0], [4.0303959999998824, 157286, 157286], [5.0305789999999888, 157286, 0], [5.0305820000000949, 0, 0], [5.0305869999999686, 131072, 0], [5.0305889999999636, 131072, 131072], [6.030706999999893, 131072, 0], [6.0307109999998829, 0, 0], [6.030715999999984, 112347, 0], [6.0307179999999789, 112347, 112347], [7.0308439999998882, 112347, 0], [7.0308480000001055, 0, 0], [7.0308520000000954, 98304, 0], [7.0308560000000853, 98304, 98304], [8.031048999999939, 98304, 0], [8.0310520000000452, 0, 0], [8.0310560000000351, 87381, 0], [8.0310589999999138, 87381, 87381], [9.0312420000000202, 87381, 0], [9.0312449999998989, 0, 0], [9.0312489999998888, 78643, 0], [9.031251999999995, 78643, 78643], [10.031518000000005, 78643, 0], [10.031522999999879, 0, 0], [10.031531000000086, 71493, 0], [10.03153599999996, 71493, 71493], [10.068279999999959, 71493, 0], [10.068297999999913, 0, 0], [10.068309999999883, 71493, 0], [10.068316999999979, 71493, 71493], [10.06838300000004, 71493, 0], [10.068393000000015, 0, 0]]}};\n",
       "</script>\n",
       "<!-- TRAPPY_PUBLISH_SOURCE_LIB = \"http://cdnjs.cloudflare.com/ajax/libs/dygraph/1.1.1/dygraph-combined.js\" -->\n",
       "<!-- TRAPPY_PUBLISH_SOURCE_LIB = \"http://dygraphs.com/extras/synchronizer.js\" -->\n",
       "<!-- TRAPPY_PUBLISH_SOURCE_LIB = \"https://cdnjs.cloudflare.com/ajax/libs/underscore.js/1.8.3/underscore-min.js\" -->\n",
       "\n",
       "            <script>\n",
       "            /* TRAPPY_PUBLISH_IMPORT = \"plotter/js/ILinePlot.js\" */\n",
       "            /* TRAPPY_PUBLISH_REMOVE_START */\n",
       "            var ilp_req = require.config( {\n",
       "\n",
       "                paths: {\n",
       "                    \"dygraph-sync\": '/nbextensions/plotter_scripts/ILinePlot/synchronizer',\n",
       "                    \"dygraph\": '/nbextensions/plotter_scripts/ILinePlot/dygraph-combined',\n",
       "                    \"ILinePlot\": '/nbextensions/plotter_scripts/ILinePlot/ILinePlot',\n",
       "                    \"underscore\": '/nbextensions/plotter_scripts/ILinePlot/underscore-min',\n",
       "                },\n",
       "\n",
       "                shim: {\n",
       "                    \"dygraph-sync\": [\"dygraph\"],\n",
       "                    \"ILinePlot\": {\n",
       "\n",
       "                        \"deps\": [\"dygraph-sync\", \"dygraph\", \"underscore\"],\n",
       "                        \"exports\":  \"ILinePlot\"\n",
       "                    }\n",
       "                }\n",
       "            });\n",
       "                /* TRAPPY_PUBLISH_REMOVE_STOP */\n",
       "                ilp_req([\"require\", \"ILinePlot\"], function() { /* TRAPPY_PUBLISH_REMOVE_LINE */\n",
       "                ILinePlot.generate(fig_11aa3f9e1a8f48a59c90f6bddd5f620b_data, [\"rgb(0, 0, 255)\", \"rgb(0, 255, 0)\"]);\n",
       "            }); /* TRAPPY_PUBLISH_REMOVE_LINE */\n",
       "            </script>\n",
       "        "
      ],
      "text/plain": [
       "<IPython.core.display.HTML object>"
      ]
     },
     "metadata": {},
     "output_type": "display_data"
    }
   ],
   "source": [
    "for i in range (0, cpu_number):\n",
    "    try:\n",
    "        trappy.ILinePlot(tr.ftrace,\n",
    "                signals=[\n",
    "                            \"sched_dl_grub:total_bw:0x0,0x0,0xff\",\n",
    "                            \"sched_dl_grub:running_bw:0x0,0xff,0x0\",\n",
    "                ],\n",
    "                pivot=\"cpu_id\",\n",
    "                filters={\"cpu_id\": [i]},\n",
    "                marker = '+',\n",
    "                drawstyle='steps-post',\n",
    "                per_line=1).view()\n",
    "    except Exception, err:\n",
    "        print \"No data for cpu \", i, \" \", err"
   ]
  },
  {
   "cell_type": "code",
   "execution_count": 16,
   "metadata": {},
   "outputs": [
    {
     "data": {
      "text/html": [
       "<div>\n",
       "<style>\n",
       "    .dataframe thead tr:only-child th {\n",
       "        text-align: right;\n",
       "    }\n",
       "\n",
       "    .dataframe thead th {\n",
       "        text-align: left;\n",
       "    }\n",
       "\n",
       "    .dataframe tbody tr th {\n",
       "        vertical-align: top;\n",
       "    }\n",
       "</style>\n",
       "<table border=\"1\" class=\"dataframe\">\n",
       "  <thead>\n",
       "    <tr style=\"text-align: right;\">\n",
       "      <th></th>\n",
       "      <th>Energy</th>\n",
       "    </tr>\n",
       "    <tr>\n",
       "      <th>Cluster</th>\n",
       "      <th></th>\n",
       "    </tr>\n",
       "  </thead>\n",
       "  <tbody>\n",
       "    <tr>\n",
       "      <th>Device0</th>\n",
       "      <td>52361.5</td>\n",
       "    </tr>\n",
       "  </tbody>\n",
       "</table>\n",
       "</div>"
      ],
      "text/plain": [
       "          Energy\n",
       "Cluster         \n",
       "Device0  52361.5"
      ]
     },
     "execution_count": 16,
     "metadata": {},
     "output_type": "execute_result"
    }
   ],
   "source": [
    "import pandas as pd\n",
    "\n",
    "df = pd.DataFrame(list(nrg_report.channels.iteritems()),\n",
    "                  columns=['Cluster', 'Energy'])\n",
    "df = df.set_index('Cluster')\n",
    "df"
   ]
  },
  {
   "cell_type": "code",
   "execution_count": 17,
   "metadata": {
    "collapsed": true
   },
   "outputs": [],
   "source": [
    "def plotPower(csv, tmin=0, tmax=None):\n",
    "    # Parse CSV and set reasonable names for the columns\n",
    "    columns=[\"vshunt_mV\", \"vbus_mV\", \"power_mW\", \"current_mA\", \"ms\"]\n",
    "    df = pd.read_csv(csv, names=columns, index_col=4, skiprows=1)\n",
    "    # Scale index to have [s] resolution\n",
    "    df['Time'] = df.index / 1e3\n",
    "    df.set_index('Time', inplace=True)\n",
    "    # Plot the dataframe in the required Time range\n",
    "    ax = df.power_mW.plot(figsize=(16,8), drawstyle='steps-post', style=['r-'], alpha=0.4, xlim=(tmin, tmax))\n",
    "    ax.set_xlabel(\"Time [s]\")\n",
    "    ax.set_ylabel(\"Power [mW]\")"
   ]
  },
  {
   "cell_type": "code",
   "execution_count": 18,
   "metadata": {},
   "outputs": [
    {
     "data": {
      "image/png": "[encoded data removed]",
      "text/plain": [
       "<matplotlib.figure.Figure at 0x7fc3afdec710>"
      ]
     },
     "metadata": {},
     "output_type": "display_data"
    }
   ],
   "source": [
    "plotPower('/tmp/test-dl/samples_Device0.csv')"
   ]
  },
  {
   "cell_type": "code",
   "execution_count": null,
   "metadata": {
    "collapsed": true
   },
   "outputs": [],
   "source": []
  }
 ],
 "metadata": {
  "celltoolbar": "Raw Cell Format",
  "kernelspec": {
   "display_name": "Python 2",
   "language": "python",
   "name": "python2"
  },
  "language_info": {
   "codemirror_mode": {
    "name": "ipython",
    "version": 2
   },
   "file_extension": ".py",
   "mimetype": "text/x-python",
   "name": "python",
   "nbconvert_exporter": "python",
   "pygments_lexer": "ipython2",
   "version": "2.7.12"
  }
 },
 "nbformat": 4,
 "nbformat_minor": 2
}
