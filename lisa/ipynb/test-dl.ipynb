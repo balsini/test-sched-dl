{
 "cells": [
  {
   "cell_type": "markdown",
   "metadata": {},
   "source": [
    "# Target configuration"
   ]
  },
  {
   "cell_type": "code",
   "execution_count": 1,
   "metadata": {
    "collapsed": true
   },
   "outputs": [],
   "source": [
    "# Target configuration\n",
    "conf = {\n",
    "    \n",
    "    # Target type\n",
    "    \"platform\"    : 'linux',\n",
    "    \"board\"       : \"sabre\",\n",
    "    \n",
    "    # Login credentials\n",
    "    \"host\"        : \"192.168.10.162\",\n",
    "    \"username\"    : \"root\",\n",
    "    \"password\"    : \"temppwd\",\n",
    "\n",
    "    # Binary tools required to run this experiment\n",
    "    # These tools must be present in the tools/ folder for the architecture\n",
    "    \"tools\"   : ['taskset', 'trace-cmd'],\n",
    "    \n",
    "    # FTrace events end buffer configuration\n",
    "    \"ftrace\"  : {\n",
    "         \"events\" : [\n",
    "             \"sched_switch\",\n",
    "             \"sched_wakeup_new\",\n",
    "             \"sched_wakeup\",\n",
    "             \"sched_deadline_suspend\",\n",
    "             \"sched_deadline_replenish\",\n",
    "             \"cpu_frequency\",\n",
    "             \"sched_dl_grub\",\n",
    "             \"sched_load_avg_task\",\n",
    "         ],\n",
    "         \"buffsize\" : 10240\n",
    "    },\n",
    "}\n",
    "\n",
    "cpu_number = 4"
   ]
  },
  {
   "cell_type": "code",
   "execution_count": 2,
   "metadata": {
    "collapsed": true
   },
   "outputs": [],
   "source": [
    "import logging\n",
    "reload(logging)\n",
    "logging.basicConfig(\n",
    "    format='%(asctime)-9s %(levelname)-8s: %(message)s',\n",
    "    datefmt='%I:%M:%S')\n",
    "\n",
    "# Enable logging at INFO level\n",
    "logging.getLogger().setLevel(logging.DEBUG)"
   ]
  },
  {
   "cell_type": "code",
   "execution_count": 3,
   "metadata": {
    "collapsed": true
   },
   "outputs": [],
   "source": [
    "# Execute this cell to enabled devlib debugging statements\n",
    "logging.getLogger('ssh').setLevel(logging.DEBUG)"
   ]
  },
  {
   "cell_type": "code",
   "execution_count": 4,
   "metadata": {},
   "outputs": [
    {
     "name": "stdout",
     "output_type": "stream",
     "text": [
      "Populating the interactive namespace from numpy and matplotlib\n"
     ]
    }
   ],
   "source": [
    "# Generate plots inline\n",
    "%pylab inline\n",
    "\n",
    "# Other python modules required by this notebook\n",
    "import json\n",
    "import os\n",
    "import shutil"
   ]
  },
  {
   "cell_type": "code",
   "execution_count": 5,
   "metadata": {},
   "outputs": [
    {
     "name": "stderr",
     "output_type": "stream",
     "text": [
      "/usr/lib/python2.7/dist-packages/gtk-2.0/gtk/__init__.py:57: GtkWarning: could not open display\n",
      "  warnings.warn(str(e), _gtk.Warning)\n",
      "10:12:57  WARNING : Unusual max capacity (1023), overriding capacity_scale\n",
      "10:12:57  INFO    : Using base path: /lisa\n",
      "10:12:57  INFO    : Loading custom (inline) target configuration\n",
      "10:12:57  DEBUG   : Target configuration {'username': 'root', 'ftrace': {'buffsize': 10240, 'events': ['sched_switch', 'sched_wakeup_new', 'sched_wakeup', 'sched_deadline_suspend', 'sched_deadline_replenish', 'cpu_frequency', 'sched_dl_grub', 'sched_load_avg_task']}, 'platform': 'linux', 'host': '192.168.10.162', 'board': 'sabre', 'password': 'temppwd', 'tools': ['taskset', 'trace-cmd']}\n",
      "10:12:57  DEBUG   : Trying to load board descriptor from /lisa/libs/utils/platforms/sabre.json\n",
      "10:12:57  INFO    : Loading board:\n",
      "10:12:57  INFO    :    /lisa/libs/utils/platforms/sabre.json\n",
      "10:12:57  DEBUG   : loading JSON...\n",
      "10:12:57  DEBUG   : Loaded JSON configuration:\n",
      "10:12:57  DEBUG   :    {u'board': {u'cores': [u'A9', u'A9', u'A9', u'A9'], u'modules': [u'cpufreq']}}\n",
      "10:12:57  INFO    : Devlib modules to load: [u'cpufreq']\n",
      "10:12:57  INFO    : Connecting linux target:\n",
      "10:12:57  INFO    :   username : root\n",
      "10:12:57  INFO    :       host : 192.168.10.162\n",
      "10:12:57  INFO    :   password : temppwd\n",
      "10:12:57  INFO    : Connection settings:\n",
      "10:12:57  INFO    :    {'username': 'root', 'host': '192.168.10.162', 'password': 'temppwd'}\n",
      "10:12:57  DEBUG   : Setup LINUX target...\n",
      "10:12:57  DEBUG   : Logging in root@192.168.10.162\n",
      "10:12:59  DEBUG   : id\n",
      "10:12:59  DEBUG   : if [ -e '/root/devlib-target/bin' ]; then echo 1; else echo 0; fi\n",
      "10:13:00  DEBUG   : ls -1 /root/devlib-target/bin\n",
      "10:13:00  DEBUG   : uname -m\n",
      "10:13:00  DEBUG   : if [ -e '/sys/devices/system/cpu/cpufreq' ]; then echo 1; else echo 0; fi\n",
      "10:13:01  DEBUG   : Installing module cpufreq\n",
      "10:13:01  DEBUG   : Checking target connection...\n",
      "10:13:01  DEBUG   : Target info:\n",
      "10:13:01  DEBUG   :       ABI: armeabi\n",
      "10:13:01  DEBUG   : cat /proc/cpuinfo\n",
      "10:13:01  DEBUG   :      CPUs: CpuInfo(['A9', 'A9', 'A9', 'A9'])\n",
      "10:13:01  DEBUG   :  Clusters: [0, 0, 0, 0]\n",
      "10:13:01  INFO    : Initializing target workdir:\n",
      "10:13:01  INFO    :    /root/devlib-target\n",
      "10:13:01  DEBUG   : mkdir -p /root/devlib-target\n",
      "10:13:02  DEBUG   : mkdir -p /root/devlib-target/bin\n",
      "10:13:02  DEBUG   : /usr/bin/scp -r   /lisa/libs/devlib/devlib/bin/armeabi/busybox root@192.168.10.162:/root/devlib-target/bin/busybox\n",
      "10:13:03  DEBUG   : chmod a+x /root/devlib-target/bin/busybox\n",
      "10:13:03  DEBUG   : /usr/bin/scp -r   /lisa/libs/devlib/devlib/bin/scripts/shutils root@192.168.10.162:/root/devlib-target/bin/shutils\n",
      "10:13:04  DEBUG   : chmod a+x /root/devlib-target/bin/shutils\n",
      "10:13:04  DEBUG   : /usr/bin/scp -r   /lisa/tools/armeabi/trace-cmd root@192.168.10.162:/root/devlib-target/bin/trace-cmd\n",
      "10:13:05  DEBUG   : chmod a+x /root/devlib-target/bin/trace-cmd\n",
      "10:13:05  DEBUG   : /usr/bin/scp -r   /lisa/tools/armeabi/taskset root@192.168.10.162:/root/devlib-target/bin/taskset\n",
      "10:13:06  DEBUG   : chmod a+x /root/devlib-target/bin/taskset\n",
      "10:13:06  DEBUG   : Check for module [cpufreq]...\n",
      "10:13:06  INFO    : Attempting to read energy model from target\n",
      "10:13:06  ERROR   : Couldn't read target energy model: Requires cpuidle devlib module. Please ensure \"cpuidle\" is listed in your target/test modules\n",
      "10:13:06  INFO    : Topology:\n",
      "10:13:06  INFO    :    [[0, 1, 2, 3]]\n",
      "10:13:06  DEBUG   : cat /sys/devices/system/cpu/cpu0/cpufreq/scaling_available_frequencies\n",
      "10:13:06  DEBUG   : Trying to load default EM from /lisa/libs/utils/platforms/sabre.json\n",
      "10:13:06  INFO    : Loading default EM:\n",
      "10:13:06  INFO    :    /lisa/libs/utils/platforms/sabre.json\n",
      "10:13:06  DEBUG   : loading JSON...\n",
      "10:13:06  DEBUG   : Loaded JSON configuration:\n",
      "10:13:06  DEBUG   :    {u'board': {u'cores': [u'A9', u'A9', u'A9', u'A9'], u'modules': [u'cpufreq']}}\n",
      "10:13:07  DEBUG   : /root/devlib-target/bin/busybox uname -r -v\n",
      "10:13:07  DEBUG   : Platform descriptor initialized\n",
      "{'kernel': {'version_number': 4, 'sha1': '372df78', 'major': 11, 'parts': (4, 11, 0), 'version': '11 SMP Fri May 26 17:02:04 CEST 2017', 'rc': None, 'release': '4.11.0-00013-g372df78', 'minor': 0}, 'abi': 'armeabi', 'freqs': {0: [396000, 792000, 996000]}, 'nrg_model': None, 'clusters': {0: [0, 1, 2, 3]}, 'cpus_count': 4, 'os': 'linux', 'topology': [[0, 1, 2, 3]]}\n",
      "10:13:07  DEBUG   : /usr/bin/scp -r   /lisa/libs/devlib/devlib/bin/armeabi/trace-cmd root@192.168.10.162:/root/devlib-target/bin/trace-cmd\n",
      "10:13:08  DEBUG   : chmod a+x /root/devlib-target/bin/trace-cmd\n",
      "10:13:08  DEBUG   : cat /sys/kernel/debug/tracing/available_events\n",
      "10:13:08  WARNING : Event [sched_deadline_suspend] not available for tracing\n",
      "10:13:08  WARNING : Event [sched_deadline_replenish] not available for tracing\n",
      "10:13:08  WARNING : Event [sched_load_avg_task] not available for tracing\n",
      "10:13:08  INFO    : Enabled tracepoints:\n",
      "10:13:08  INFO    :    sched_switch\n",
      "10:13:08  INFO    :    sched_wakeup_new\n",
      "10:13:08  INFO    :    sched_wakeup\n",
      "10:13:08  INFO    :    sched_deadline_suspend\n",
      "10:13:08  INFO    :    sched_deadline_replenish\n",
      "10:13:08  INFO    :    cpu_frequency\n",
      "10:13:08  INFO    :    sched_dl_grub\n",
      "10:13:08  INFO    :    sched_load_avg_task\n",
      "10:13:08  DEBUG   : No RT-App workloads, skipping calibration\n",
      "10:13:08  INFO    : Set results folder to:\n",
      "10:13:08  INFO    :    /lisa/results/20170529_101308\n",
      "10:13:08  INFO    : Experiment results available also in:\n",
      "10:13:08  INFO    :    /lisa/results_latest\n"
     ]
    }
   ],
   "source": [
    " #Support to access the remote target\n",
    "from env import TestEnv\n",
    "\n",
    "# Initialize a test environment\n",
    "te = TestEnv(conf)\n",
    "target = te.target"
   ]
  },
  {
   "cell_type": "code",
   "execution_count": 6,
   "metadata": {
    "collapsed": true
   },
   "outputs": [],
   "source": [
    "def execute(te, test_dir, test_command, res_dir):\n",
    "    \n",
    "    logging.info('# Create results folder for this execution')\n",
    "    !rm -fr {res_dir}\n",
    "    !mkdir {res_dir}\n",
    "    \n",
    "    logging.info('# Setup FTrace')\n",
    "    te.ftrace.start()\n",
    "\n",
    "    ##logging.info('## Start energy sampling')\n",
    "    ##te.emeter.reset()\n",
    "\n",
    "    logging.info('### Start Command')\n",
    "    te.target.execute(\"cd \" + test_dir)\n",
    "    te.target.execute(test_command)\n",
    "\n",
    "    ##logging.info('## Read energy consumption: %s/energy.json', res_dir)\n",
    "    ##nrg_report = te.emeter.report(out_dir=res_dir)\n",
    "\n",
    "    logging.info('# Stop FTrace')\n",
    "    te.ftrace.stop()\n",
    "\n",
    "    trace_file = os.path.join(res_dir, 'trace.dat')\n",
    "    logging.info('# Save FTrace: %s', trace_file)\n",
    "    te.ftrace.get_trace(trace_file)\n",
    "\n",
    "    logging.info('# Save platform description: %s/platform.json', res_dir)\n",
    "    plt, plt_file = te.platform_dump(res_dir)\n",
    "    \n",
    "    logging.info('# Report collected data:')\n",
    "    logging.info('   %s', res_dir)\n",
    "    !ls -la {res_dir}\n",
    "    \n",
    "    return plt, plt_file, trace_file ##, nrg_report"
   ]
  },
  {
   "cell_type": "markdown",
   "metadata": {},
   "source": [
    "# Test 1 (schedutil)"
   ]
  },
  {
   "cell_type": "code",
   "execution_count": 7,
   "metadata": {
    "collapsed": true
   },
   "outputs": [],
   "source": [
    "#test_dir =\"/home/ubuntu/test-dl/T0005-change-param-run/\"\n",
    "test_dir =\"/home/ubuntu/test-dl/T0006-change-param-sleep/\"\n",
    "test_command = \"sudo TEST_LISA=y ./run.sh\"\n",
    "res_dir = \"/tmp/claudio14\""
   ]
  },
  {
   "cell_type": "code",
   "execution_count": 9,
   "metadata": {},
   "outputs": [],
   "source": [
    "target.cpufreq.set_all_governors('schedutil')"
   ]
  },
  {
   "cell_type": "code",
   "execution_count": 8,
   "metadata": {},
   "outputs": [
    {
     "name": "stderr",
     "output_type": "stream",
     "text": [
      "10:13:09  DEBUG   : echo -1 > '/proc/sys/kernel/sched_rt_runtime_us'\n",
      "10:13:09  DEBUG   : cat '/proc/sys/kernel/sched_rt_runtime_us'\n"
     ]
    }
   ],
   "source": [
    "target.write_value('/proc/sys/kernel/sched_rt_runtime_us', -1)"
   ]
  },
  {
   "cell_type": "code",
   "execution_count": 10,
   "metadata": {},
   "outputs": [
    {
     "name": "stderr",
     "output_type": "stream",
     "text": [
      "10:13:09  INFO    : # Create results folder for this execution\n",
      "10:13:09  INFO    : # Setup FTrace\n",
      "10:13:10  DEBUG   : echo 10240 > '/sys/kernel/debug/tracing/buffer_size_kb'\n",
      "10:13:10  DEBUG   : cat '/sys/kernel/debug/tracing/buffer_size_kb'\n",
      "10:13:10  DEBUG   : /root/devlib-target/bin/trace-cmd reset\n",
      "10:13:14  DEBUG   : /root/devlib-target/bin/trace-cmd start -e sched_switch -e sched_wakeup_new -e sched_wakeup -e cpu_frequency -e sched_dl_grub\n",
      "10:13:17  DEBUG   : echo TRACE_MARKER_START > '/sys/kernel/debug/tracing/trace_marker'\n",
      "10:13:17  DEBUG   : Trace CPUFreq frequencies\n",
      "10:13:17  DEBUG   : /root/devlib-target/bin/shutils cpufreq_trace_all_frequencies\n",
      "10:13:18  INFO    : ### Start Command\n",
      "10:13:18  DEBUG   : cd /home/ubuntu/test-dl/T0006-change-param-sleep/\n",
      "10:13:18  DEBUG   : sudo TEST_LISA=y ./run.sh\n",
      "10:13:29  INFO    : # Stop FTrace\n",
      "10:13:29  DEBUG   : Trace CPUFreq frequencies\n",
      "10:13:29  DEBUG   : /root/devlib-target/bin/shutils cpufreq_trace_all_frequencies\n",
      "10:13:29  DEBUG   : echo TRACE_MARKER_STOP > '/sys/kernel/debug/tracing/trace_marker'\n",
      "10:13:30  DEBUG   : /root/devlib-target/bin/trace-cmd stop\n",
      "10:13:30  INFO    : # Save FTrace: /tmp/claudio14/trace.dat\n",
      "10:13:30  DEBUG   : /root/devlib-target/bin/trace-cmd extract -o /root/devlib-target/trace.dat\n",
      "10:13:35  DEBUG   : /usr/bin/scp -r   root@192.168.10.162:/root/devlib-target/trace.dat /tmp/claudio14/trace.dat\n",
      "10:13:36  INFO    : # Save platform description: /tmp/claudio14/platform.json\n",
      "10:13:36  DEBUG   : Dump platform descriptor in [/tmp/claudio14/platform.json]\n",
      "10:13:36  INFO    : # Report collected data:\n",
      "10:13:36  INFO    :    /tmp/claudio14\n"
     ]
    },
    {
     "name": "stdout",
     "output_type": "stream",
     "text": [
      "total 4468\r\n",
      "drwxrwxr-x  2 lisa lisa    4096 May 29 10:13 .\r\n",
      "drwxrwxrwt 16 root root    4096 May 29 10:13 ..\r\n",
      "-rw-rw-r--  1 lisa lisa     747 May 29 10:13 platform.json\r\n",
      "-rw-r--r--  1 lisa lisa 4562944 May 29 10:13 trace.dat\r\n"
     ]
    }
   ],
   "source": [
    "plt, plt_file, trace_file = execute(te, test_dir, test_command, res_dir)"
   ]
  },
  {
   "cell_type": "code",
   "execution_count": 11,
   "metadata": {
    "collapsed": true
   },
   "outputs": [],
   "source": [
    "!kernelshark {trace_file} 2>/dev/null"
   ]
  },
  {
   "cell_type": "code",
   "execution_count": 12,
   "metadata": {
    "collapsed": true
   },
   "outputs": [],
   "source": [
    "# Support for trace events analysis\n",
    "from trace import Trace\n",
    "\n",
    "# Suport for FTrace events parsing and visualization\n",
    "import trappy"
   ]
  },
  {
   "cell_type": "code",
   "execution_count": 13,
   "metadata": {},
   "outputs": [
    {
     "name": "stderr",
     "output_type": "stream",
     "text": [
      "10:13:36  DEBUG   : Loading [sched] events from trace in [/tmp/claudio14]...\n",
      "10:13:36  DEBUG   : Parsing events: ['sched_switch', 'sched_wakeup_new', 'sched_wakeup', 'sched_deadline_suspend', 'sched_deadline_replenish', 'cpu_frequency', 'sched_dl_grub', 'sched_load_avg_task', 'cpu_frequency_devlib']\n",
      "10:13:36  DEBUG   : Parsing FTrace format...\n",
      "10:13:37  DEBUG   : Events found on trace:\n",
      "10:13:37  DEBUG   :  - sched_dl_grub\n",
      "10:13:37  DEBUG   :  - cpu_frequency\n",
      "10:13:37  DEBUG   :  - sched_wakeup_new\n",
      "10:13:37  DEBUG   :  - cpu_frequency_devlib\n",
      "10:13:37  DEBUG   :  - sched_switch\n",
      "10:13:37  DEBUG   :  - sched_wakeup\n",
      "10:13:37  DEBUG   : First freqs for [0, 1, 2, 3]:\n",
      "           __comm  __cpu  __pid  cpu  frequency\n",
      "Time                                           \n",
      "0.014220  shutils      3   2163    0     792000\n",
      "0.014567  shutils      3   2163    1     792000\n",
      "0.014879  shutils      3   2163    2     792000\n",
      "0.015186  shutils      3   2163    3     792000\n",
      "10:13:37  DEBUG   : Min os freq @: 0.0\n",
      "10:13:37  DEBUG   : Last freqs for [0, 1, 2, 3]:\n",
      "            __comm  __cpu  __pid  cpu  frequency\n",
      "Time                                            \n",
      "11.488809  shutils      3   2182    0     396000\n",
      "11.489476  shutils      3   2182    1     396000\n",
      "11.490087  shutils      3   2182    2     396000\n",
      "11.490690  shutils      3   2182    3     396000\n",
      "10:13:37  DEBUG   : Max os freq @: 11.618618\n",
      "10:13:37  INFO    : Platform clusters verified to be Frequency coherent\n",
      "10:13:37  DEBUG   : Lookup dataset for tasks...\n",
      "10:13:37  DEBUG   : Lookup for task [shutils]...\n",
      "10:13:37  DEBUG   :   task          shutils found, pid: [2163, 2183, 2182]\n",
      "10:13:37  DEBUG   : Lookup for task [swapper/3]...\n",
      "10:13:37  DEBUG   :   task        swapper/3 found, pid: [0]\n",
      "10:13:37  DEBUG   : Lookup for task [rcu_sched]...\n",
      "10:13:37  DEBUG   :   task        rcu_sched found, pid: [8]\n",
      "10:13:37  DEBUG   : Lookup for task [swapper/1]...\n",
      "10:13:37  DEBUG   :   task        swapper/1 found, pid: [0]\n",
      "10:13:37  DEBUG   : Lookup for task [swapper/0]...\n",
      "10:13:37  DEBUG   :   task        swapper/0 found, pid: [0]\n",
      "10:13:37  DEBUG   : Lookup for task [bash]...\n",
      "10:13:37  DEBUG   :   task             bash found, pid: [2033, 2165, 2182, 2184]\n",
      "10:13:37  DEBUG   : Lookup for task [kworker/u8:1]...\n",
      "10:13:37  DEBUG   :   task     kworker/u8:1 found, pid: [2051]\n",
      "10:13:37  DEBUG   : Lookup for task [sshd]...\n",
      "10:13:37  DEBUG   :   task             sshd found, pid: [2020]\n",
      "10:13:37  DEBUG   : Lookup for task [swapper/2]...\n",
      "10:13:37  DEBUG   :   task        swapper/2 found, pid: [0]\n",
      "10:13:37  DEBUG   : Lookup for task [apache2]...\n",
      "10:13:37  DEBUG   :   task          apache2 found, pid: [722, 719, 664]\n",
      "10:13:37  DEBUG   : Lookup for task [kworker/3:3]...\n",
      "10:13:37  DEBUG   :   task      kworker/3:3 found, pid: [1468]\n",
      "10:13:37  DEBUG   : Lookup for task [kworker/2:2]...\n",
      "10:13:37  DEBUG   :   task      kworker/2:2 found, pid: [1742]\n",
      "10:13:37  DEBUG   : Lookup for task [kworker/u8:2]...\n",
      "10:13:37  DEBUG   :   task     kworker/u8:2 found, pid: [1441, 2166, 2167, 2168, 2179, 2180, 2181]\n",
      "10:13:37  DEBUG   : Lookup for task [kworker/0:0]...\n",
      "10:13:37  DEBUG   :   task      kworker/0:0 found, pid: [2121]\n",
      "10:13:37  DEBUG   : Lookup for task [kworker/1:2]...\n",
      "10:13:37  DEBUG   :   task      kworker/1:2 found, pid: [1867]\n",
      "10:13:37  DEBUG   : Lookup for task [systemd-journal]...\n",
      "10:13:37  DEBUG   :   task  systemd-journal found, pid: [196]\n",
      "10:13:37  DEBUG   : Lookup for task [in:imuxsock]...\n",
      "10:13:37  DEBUG   :   task      in:imuxsock found, pid: [397]\n",
      "10:13:37  DEBUG   : Lookup for task [rs:main Q:Reg]...\n",
      "10:13:37  DEBUG   :   task    rs:main Q:Reg found, pid: [399]\n",
      "10:13:37  DEBUG   : Lookup for task [systemd]...\n",
      "10:13:37  DEBUG   :   task          systemd found, pid: [1]\n",
      "10:13:37  DEBUG   : Lookup for task [sudo]...\n",
      "10:13:37  DEBUG   :   task             sudo found, pid: [2165, 2169]\n",
      "10:13:37  DEBUG   : Lookup for task [ksoftirqd/3]...\n",
      "10:13:37  DEBUG   :   task      ksoftirqd/3 found, pid: [24]\n",
      "10:13:37  DEBUG   : Lookup for task [run.sh]...\n",
      "10:13:37  DEBUG   :   task           run.sh found, pid: [2170, 2169, 2174, 2175, 2176, 2178]\n",
      "10:13:37  DEBUG   : Lookup for task [make]...\n",
      "10:13:37  DEBUG   :   task             make found, pid: [2171, 2170, 2173]\n",
      "10:13:37  DEBUG   : Lookup for task [sh]...\n",
      "10:13:37  DEBUG   :   task               sh found, pid: [2172, 2171]\n",
      "10:13:37  DEBUG   : Lookup for task [basename]...\n",
      "10:13:37  DEBUG   :   task         basename found, pid: [2174]\n",
      "10:13:37  DEBUG   : Lookup for task [T0006-change-pa]...\n",
      "10:13:37  DEBUG   :   task  T0006-change-pa found, pid: [2177, 2175]\n",
      "10:13:37  DEBUG   : Lookup for task [kworker/2:1]...\n",
      "10:13:37  DEBUG   :   task      kworker/2:1 found, pid: [2019]\n",
      "10:13:37  DEBUG   : Lookup for task [ksoftirqd/2]...\n",
      "10:13:37  DEBUG   :   task      ksoftirqd/2 found, pid: [19]\n",
      "10:13:37  DEBUG   : Lookup for task [jbd2/mmcblk0p1-]...\n",
      "10:13:37  DEBUG   :   task  jbd2/mmcblk0p1- found, pid: [164]\n",
      "10:13:37  DEBUG   : Lookup for task [mmcqd/0]...\n",
      "10:13:37  DEBUG   :   task          mmcqd/0 found, pid: [157]\n",
      "10:13:37  DEBUG   : Lookup for task [kworker/0:1H]...\n",
      "10:13:37  DEBUG   :   task     kworker/0:1H found, pid: [163]\n",
      "10:13:37  DEBUG   : Lookup for task [sleep]...\n",
      "10:13:37  DEBUG   :   task            sleep found, pid: [2176]\n",
      "10:13:37  DEBUG   : Lookup for task [ksoftirqd/0]...\n",
      "10:13:37  DEBUG   :   task      ksoftirqd/0 found, pid: [7]\n",
      "10:13:37  DEBUG   : Lookup for task [killall]...\n",
      "10:13:37  DEBUG   :   task          killall found, pid: [2178]\n",
      "10:13:37  DEBUG   : Lookup for task [ksoftirqd/1]...\n",
      "10:13:37  DEBUG   :   task      ksoftirqd/1 found, pid: [14]\n",
      "10:13:37  DEBUG   : Collected events spans a 12.019 [s] time interval\n",
      "10:13:37  DEBUG   : Set plots time range to (0.000000, 12.018556)[s]\n",
      "10:13:37  DEBUG   : Registering [<trace.Trace object at 0x7f2a1687d6d0>] local data frames\n",
      "10:13:37  DEBUG   :    functions_stats\n",
      "10:13:37  DEBUG   :    trace_event\n",
      "10:13:37  DEBUG   : Analysis: /lisa/libs/utils/analysis\n",
      "10:13:37  DEBUG   : Syspath: ['/lisa/libs/utils/analysis', '', '/lisa/libs/bart', '/lisa/libs/trappy', '/lisa/libs/devlib', '/lisa', '/lisa/libs/wlgen', '/lisa/libs/utils', '/lisa/ipynb', '/usr/lib/python2.7', '/usr/lib/python2.7/plat-x86_64-linux-gnu', '/usr/lib/python2.7/lib-tk', '/usr/lib/python2.7/lib-old', '/usr/lib/python2.7/lib-dynload', '/usr/local/lib/python2.7/dist-packages', '/usr/lib/python2.7/dist-packages', '/usr/lib/python2.7/dist-packages/PILcompat', '/usr/lib/python2.7/dist-packages/gtk-2.0', '/usr/local/lib/python2.7/dist-packages/IPython/extensions', '/home/lisa/.ipython']\n",
      "10:13:37  DEBUG   : Registering trace analysis modules:\n",
      "10:13:37  DEBUG   : Filename: idle_analysis\n",
      "10:13:37  DEBUG   : Platform data without Energy Model info\n",
      "10:13:37  DEBUG   : Parsing SMP clusters\n",
      "10:13:37  DEBUG   : Registering [<idle_analysis.IdleAnalysis object at 0x7f2a16870350>] local data frames\n",
      "10:13:37  DEBUG   :    cluster_idle_state_residency\n",
      "10:13:37  DEBUG   :    cpu_idle_state_residency\n",
      "10:13:37  DEBUG   :    trace_event\n",
      "10:13:37  DEBUG   :    idle\n",
      "10:13:37  DEBUG   : Filename: functions_analysis\n",
      "10:13:37  DEBUG   : Platform data without Energy Model info\n",
      "10:13:37  DEBUG   : Parsing SMP clusters\n",
      "10:13:37  DEBUG   : Registering [<functions_analysis.FunctionsAnalysis object at 0x7f2a16727190>] local data frames\n",
      "10:13:37  DEBUG   :    trace_event\n",
      "10:13:37  DEBUG   :    functions\n",
      "10:13:37  DEBUG   : Filename: frequency_analysis\n",
      "10:13:37  DEBUG   : Platform data without Energy Model info\n",
      "10:13:37  DEBUG   : Parsing SMP clusters\n",
      "10:13:37  DEBUG   : Registering [<frequency_analysis.FrequencyAnalysis object at 0x7f2a16727710>] local data frames\n",
      "10:13:37  DEBUG   :    cluster_frequency_residency\n",
      "10:13:37  DEBUG   :    cpu_frequency_residency\n",
      "10:13:37  DEBUG   :    trace_event\n",
      "10:13:37  DEBUG   :    frequency\n",
      "10:13:37  DEBUG   : Filename: cpus_analysis\n",
      "10:13:37  DEBUG   : Platform data without Energy Model info\n",
      "10:13:37  DEBUG   : Parsing SMP clusters\n",
      "10:13:37  DEBUG   : Registering [<cpus_analysis.CpusAnalysis object at 0x7f2a16727c10>] local data frames\n",
      "10:13:37  DEBUG   :    context_switches\n",
      "10:13:37  DEBUG   :    trace_event\n",
      "10:13:37  DEBUG   :    cpus\n",
      "10:13:37  DEBUG   : Filename: status_analysis\n"
     ]
    },
    {
     "name": "stderr",
     "output_type": "stream",
     "text": [
      "10:13:37  DEBUG   : Platform data without Energy Model info\n",
      "10:13:37  DEBUG   : Parsing SMP clusters\n",
      "10:13:37  DEBUG   : Registering [<status_analysis.StatusAnalysis object at 0x7f2a16727c90>] local data frames\n",
      "10:13:37  DEBUG   :    overutilized\n",
      "10:13:37  DEBUG   :    trace_event\n",
      "10:13:37  DEBUG   :    status\n",
      "10:13:37  DEBUG   : Filename: tasks_analysis\n",
      "10:13:37  DEBUG   : Platform data without Energy Model info\n",
      "10:13:37  DEBUG   : Parsing SMP clusters\n",
      "10:13:37  DEBUG   : Registering [<tasks_analysis.TasksAnalysis object at 0x7f2a166f6e10>] local data frames\n",
      "10:13:37  DEBUG   :    rt_tasks\n",
      "10:13:37  DEBUG   :    top_big_tasks\n",
      "10:13:37  DEBUG   :    top_wakeup_tasks\n",
      "10:13:37  DEBUG   :    trace_event\n",
      "10:13:37  DEBUG   :    tasks\n",
      "10:13:37  DEBUG   : Filename: latency_analysis\n",
      "10:13:37  DEBUG   : Platform data without Energy Model info\n",
      "10:13:37  DEBUG   : Parsing SMP clusters\n",
      "10:13:37  DEBUG   : Registering [<latency_analysis.LatencyAnalysis object at 0x7f2a166c5490>] local data frames\n",
      "10:13:37  DEBUG   :    activations_df\n",
      "10:13:37  DEBUG   :    latency_df\n",
      "10:13:37  DEBUG   :    latency_preemption_df\n",
      "10:13:37  DEBUG   :    latency_wakeup_df\n",
      "10:13:37  DEBUG   :    runtimes_df\n",
      "10:13:37  DEBUG   :    trace_event\n",
      "10:13:37  DEBUG   :    latency\n",
      "10:13:37  DEBUG   : Filename: eas_analysis\n",
      "10:13:37  DEBUG   : Platform data without Energy Model info\n",
      "10:13:37  DEBUG   : Parsing SMP clusters\n",
      "10:13:37  DEBUG   : Registering [<eas_analysis.EasAnalysis object at 0x7f2a166c58d0>] local data frames\n",
      "10:13:37  DEBUG   :    trace_event\n",
      "10:13:37  DEBUG   :    eas\n"
     ]
    }
   ],
   "source": [
    "# Parse trace\n",
    "# This will create trace.txt\n",
    "tr = Trace(te.platform, \n",
    "           res_dir,\n",
    "           events=conf['ftrace']['events'])"
   ]
  },
  {
   "cell_type": "markdown",
   "metadata": {},
   "source": [
    "### Plot frequency"
   ]
  },
  {
   "cell_type": "code",
   "execution_count": 14,
   "metadata": {},
   "outputs": [
    {
     "name": "stderr",
     "output_type": "stream",
     "text": [
      "10:13:38  WARNING : Event [sched_overutilized] not found, plot DISABLED!\n",
      "10:13:38  INFO    : CPU00 average frequency: 0.000 GHz\n",
      "10:13:38  WARNING : Event [sched_overutilized] not found, plot DISABLED!\n",
      "10:13:38  INFO    : CPU01 average frequency: 0.000 GHz\n",
      "10:13:38  WARNING : Event [sched_overutilized] not found, plot DISABLED!\n",
      "10:13:38  INFO    : CPU02 average frequency: 0.000 GHz\n",
      "10:13:38  WARNING : Event [sched_overutilized] not found, plot DISABLED!\n",
      "10:13:38  INFO    : CPU03 average frequency: 0.000 GHz\n"
     ]
    },
    {
     "data": {
      "text/plain": [
       "{0: 0.0, 1: 0.0, 2: 0.0, 3: 0.0}"
      ]
     },
     "execution_count": 14,
     "metadata": {},
     "output_type": "execute_result"
    },
    {
     "data": {
      "image/png": "[encoded data removed]",
      "text/plain": [
       "<matplotlib.figure.Figure at 0x7f2a16872a50>"
      ]
     },
     "metadata": {},
     "output_type": "display_data"
    }
   ],
   "source": [
    "tr.analysis.frequency.plotCPUFrequencies()"
   ]
  },
  {
   "cell_type": "markdown",
   "metadata": {},
   "source": [
    "### Plot execution"
   ]
  },
  {
   "cell_type": "code",
   "execution_count": 15,
   "metadata": {
    "collapsed": true
   },
   "outputs": [],
   "source": [
    "#tr.analysis.tasks.plotTasks()"
   ]
  },
  {
   "cell_type": "code",
   "execution_count": 16,
   "metadata": {
    "scrolled": false
   },
   "outputs": [
    {
     "data": {
      "text/html": [
       "<style>\n",
       "/*\n",
       " *    Copyright 2015-2016 ARM Limited\n",
       " *\n",
       " * Licensed under the Apache License, Version 2.0 (the \"License\");\n",
       " * you may not use this file except in compliance with the License.\n",
       " * You may obtain a copy of the License at\n",
       " *\n",
       " *     http://www.apache.org/licenses/LICENSE-2.0\n",
       " *\n",
       " * Unless required by applicable law or agreed to in writing, software\n",
       " * distributed under the License is distributed on an \"AS IS\" BASIS,\n",
       " * WITHOUT WARRANTIES OR CONDITIONS OF ANY KIND, either express or implied.\n",
       " * See the License for the specific language governing permissions and\n",
       " * limitations under the License.\n",
       " */\n",
       "\n",
       ".d3-tip {\n",
       "  line-height: 1;\n",
       "  padding: 12px;\n",
       "  background: rgba(0, 0, 0, 0.6);\n",
       "  color: #fff;\n",
       "  border-radius: 2px;\n",
       "  position: absolute !important;\n",
       "  z-index: 99999;\n",
       "}\n",
       "\n",
       ".d3-tip:after {\n",
       "  box-sizing: border-box;\n",
       "  pointer-events: none;\n",
       "  display: inline;\n",
       "  font-size: 10px;\n",
       "  width: 100%;\n",
       "  line-height: 1;\n",
       "  color: rgba(0, 0, 0, 0.6);\n",
       "  content: \"\\25BC\";\n",
       "  position: absolute !important;\n",
       "  z-index: 99999;\n",
       "  text-align: center;\n",
       "}\n",
       "\n",
       ".d3-tip.n:after {\n",
       "  margin: -1px 0 0 0;\n",
       "  top: 100%;\n",
       "  left: 0;\n",
       "}\n",
       "\n",
       ".contextRect {\n",
       "  fill: lightgray;\n",
       "  fill-opacity: 0.5;\n",
       "  stroke: black;\n",
       "  stroke-width: 1;\n",
       "  stroke-opacity: 1;\n",
       "  pointer-events: none;\n",
       "  shape-rendering: crispEdges;\n",
       "}\n",
       "\n",
       ".chart {\n",
       "  shape-rendering: crispEdges;\n",
       "}\n",
       "\n",
       ".mini text {\n",
       "  font: 9px sans-serif;\n",
       "}\n",
       "\n",
       ".main text {\n",
       "  font: 12px sans-serif;\n",
       "}\n",
       "\n",
       ".axis line, .axis path {\n",
       "  stroke: black;\n",
       "}\n",
       "\n",
       ".miniItem {\n",
       "  stroke-width: 8;\n",
       "}\n",
       "\n",
       ".brush .extent {\n",
       "\n",
       "  stroke: #000;\n",
       "  fill-opacity: .125;\n",
       "  shape-rendering: crispEdges;\n",
       "}\n",
       "</style>\n",
       "<div id=\"fig_c8f33087022e41f8926e84b6e548a7d2\" class=\"eventplot\">\n",
       "<!-- TRAPPY_PUBLISH_SOURCE_LIB = \"https://cdnjs.cloudflare.com/ajax/libs/d3/3.5.6/d3.min.js\" -->\n",
       "<!-- TRAPPY_PUBLISH_SOURCE_LIB = \"http://labratrevenge.com/d3-tip/javascripts/d3.tip.v0.6.3.js\" -->\n",
       "\n",
       "        <script>\n",
       "            /* TRAPPY_PUBLISH_IMPORT = \"plotter/js/EventPlot.js\" */\n",
       "            /* TRAPPY_PUBLISH_REMOVE_START */\n",
       "            var req = require.config( {\n",
       "\n",
       "                paths: {\n",
       "\n",
       "                    \"EventPlot\": '/nbextensions/plotter_scripts/EventPlot/EventPlot',\n",
       "                    \"d3-tip\": '/nbextensions/plotter_scripts/EventPlot/d3.tip.v0.6.3',\n",
       "                    \"d3-plotter\": '/nbextensions/plotter_scripts/EventPlot/d3.min'\n",
       "                },\n",
       "                waitSeconds: 15,\n",
       "                shim: {\n",
       "                    \"d3-plotter\" : {\n",
       "                        \"exports\" : \"d3\"\n",
       "                    },\n",
       "                    \"d3-tip\": [\"d3-plotter\"],\n",
       "                    \"EventPlot\": {\n",
       "\n",
       "                        \"deps\": [\"d3-tip\", \"d3-plotter\" ],\n",
       "                        \"exports\":  \"EventPlot\"\n",
       "                    }\n",
       "                }\n",
       "            });\n",
       "            /* TRAPPY_PUBLISH_REMOVE_STOP */\n",
       "            \n",
       "        req([\"require\", \"EventPlot\"], function() { /* TRAPPY_PUBLISH_REMOVE_LINE */\n",
       "            EventPlot.generate('fig_c8f33087022e41f8926e84b6e548a7d2', '/nbextensions/', {\"lanes\": [{\"id\": 0, \"label\": \"CPU :0\"}, {\"id\": 1, \"label\": \"CPU :1\"}, {\"id\": 2, \"label\": \"CPU :2\"}, {\"id\": 3, \"label\": \"CPU :3\"}], \"colorMap\": null, \"keys\": [\"run.sh-2175\", \"T0006-change-pa-2175\", \"T0006-change-pa-2177\"], \"stride\": false, \"showSummary\": true, \"xDomain\": [6.8999999712104909e-05, 12.01855599999999], \"data\": {\"T0006-change-pa-2175\": {\"2\": [[11.028078999999707, 11.029951000000437]]}, \"T0006-change-pa-2177\": {\"1\": [[0.94326999999975669, 0.94389099999989412], [1.9440340000001015, 1.9441889999998239], [2.9443440000004557, 2.9444739999999001], [3.9447829999999158, 3.9449899999999616], [4.9450589999996737, 4.9451939999999013], [5.9455189999998765, 5.9457339999999022], [6.9458089999998265, 6.9459360000000743], [7.9460920000001352, 7.9462210000001505], [8.9463709999999992, 8.946498000000247], [9.9467800000002171, 9.9469859999999244], [10.947049999999763, 10.94718499999999], [11.028092999999899, 11.028575999999703]]}, \"run.sh-2175\": {\"2\": [[0.92028300000038143, 0.94383399999969697]]}}});\n",
       "        }); /* TRAPPY_PUBLISH_REMOVE_LINE */\n",
       "        </script>\n",
       "        </div>"
      ],
      "text/plain": [
       "<IPython.core.display.HTML object>"
      ]
     },
     "metadata": {},
     "output_type": "display_data"
    }
   ],
   "source": [
    "df = tr.ftrace.sched_switch.data_frame\n",
    "a = df[df['__comm'].str.contains('T00')][['__pid']]\n",
    "pids_set=set([])\n",
    "for i in a.index:\n",
    "    pid = a.get_value(i, '__pid')\n",
    "    #print \"Adding pid \", pid\n",
    "    if isinstance(pid, int):\n",
    "        pids_set.add(pid)\n",
    "pids_list=list(pids_set)\n",
    "#print \"Plotting pids: \", pids_list\n",
    "trappy.plotter.plot_trace(res_dir, \"\", pids_list)"
   ]
  },
  {
   "cell_type": "markdown",
   "metadata": {},
   "source": [
    "### Plot GRUB total bw"
   ]
  },
  {
   "cell_type": "code",
   "execution_count": 17,
   "metadata": {
    "scrolled": false
   },
   "outputs": [
    {
     "name": "stdout",
     "output_type": "stream",
     "text": [
      "No data for cpu  0   No plots for the given constraints\n",
      "No data for cpu  1   No plots for the given constraints\n"
     ]
    },
    {
     "data": {
      "text/html": [
       "<table style=\"border-style: hidden;\">\n",
       "<tr>\n",
       "<td style=\"border-style: hidden;\"><div class=\"ilineplot\" id=\"fig_f63daec0c08e459a8059f7161480e8a7\"></div></td>\n",
       "</tr>\n",
       "<tr>\n",
       "<td style=\"border-style: hidden;\"><div style=\"text-align:center\" id=\"fig_f63daec0c08e459a8059f7161480e8a7_legend\"></div></td>\n",
       "</tr>\n",
       "</table>\n",
       "<script>\n",
       "var fig_f63daec0c08e459a8059f7161480e8a7_data = {\"logscale\": false, \"strokeWidth\": 1.0, \"pointSize\": 2, \"name\": \"fig_f63daec0c08e459a8059f7161480e8a7\", \"step_plot\": true, \"fill_graph\": false, \"title\": \"cpu_id: 2\", \"drawPoints\": false, \"per_line\": 1, \"height\": 400, \"rangesel\": false, \"data\": {\"labels\": [\"index\", \"Trace 0:sched_dl_grub:total_bw\"], \"data\": [[0.94333000000005995, 349525], [0.9433420000004844, 349525], [0.94348199999967619, 349525], [0.94349599999986822, 0], [0.94351999999980762, 786432], [0.94353200000023207, 786432], [0.96057199999995646, 786432], [1.9441150000002381, 0], [1.9441210000004503, 393216], [2.9444020000000819, 0], [2.9444080000002941, 262144], [3.9448389999997744, 0], [3.9448449999999866, 196608], [4.9451200000003155, 0], [4.9451269999999568, 157286], [5.9455799999996088, 0], [5.9455870000001596, 131072], [6.9458649999996851, 0], [6.9458720000002359, 112347], [7.9461490000003323, 0], [7.946154999999635, 98304], [8.9464280000001963, 0], [8.9464340000004086, 87381], [9.9468390000001818, 0], [9.9468459999998231, 78643], [10.947111999999834, 0], [10.947118000000046, 71493], [11.028011000000333, 71493], [11.029795999999806, 71493], [11.029803999999785, 0], [11.02981600000021, 71493], [11.029821000000084, 71493], [11.055414999999812, 71493], [11.055421000000024, 0]]}};\n",
       "</script>\n",
       "<!-- TRAPPY_PUBLISH_SOURCE_LIB = \"http://cdnjs.cloudflare.com/ajax/libs/dygraph/1.1.1/dygraph-combined.js\" -->\n",
       "<!-- TRAPPY_PUBLISH_SOURCE_LIB = \"http://dygraphs.com/extras/synchronizer.js\" -->\n",
       "<!-- TRAPPY_PUBLISH_SOURCE_LIB = \"https://cdnjs.cloudflare.com/ajax/libs/underscore.js/1.8.3/underscore-min.js\" -->\n",
       "\n",
       "            <script>\n",
       "            /* TRAPPY_PUBLISH_IMPORT = \"plotter/js/ILinePlot.js\" */\n",
       "            /* TRAPPY_PUBLISH_REMOVE_START */\n",
       "            var ilp_req = require.config( {\n",
       "\n",
       "                paths: {\n",
       "                    \"dygraph-sync\": '/nbextensions/plotter_scripts/ILinePlot/synchronizer',\n",
       "                    \"dygraph\": '/nbextensions/plotter_scripts/ILinePlot/dygraph-combined',\n",
       "                    \"ILinePlot\": '/nbextensions/plotter_scripts/ILinePlot/ILinePlot',\n",
       "                    \"underscore\": '/nbextensions/plotter_scripts/ILinePlot/underscore-min',\n",
       "                },\n",
       "\n",
       "                shim: {\n",
       "                    \"dygraph-sync\": [\"dygraph\"],\n",
       "                    \"ILinePlot\": {\n",
       "\n",
       "                        \"deps\": [\"dygraph-sync\", \"dygraph\", \"underscore\"],\n",
       "                        \"exports\":  \"ILinePlot\"\n",
       "                    }\n",
       "                }\n",
       "            });\n",
       "                /* TRAPPY_PUBLISH_REMOVE_STOP */\n",
       "                ilp_req([\"require\", \"ILinePlot\"], function() { /* TRAPPY_PUBLISH_REMOVE_LINE */\n",
       "                ILinePlot.generate(fig_f63daec0c08e459a8059f7161480e8a7_data, [\"rgb(0, 0, 255)\"]);\n",
       "            }); /* TRAPPY_PUBLISH_REMOVE_LINE */\n",
       "            </script>\n",
       "        "
      ],
      "text/plain": [
       "<IPython.core.display.HTML object>"
      ]
     },
     "metadata": {},
     "output_type": "display_data"
    },
    {
     "name": "stdout",
     "output_type": "stream",
     "text": [
      "No data for cpu  3   No plots for the given constraints\n"
     ]
    }
   ],
   "source": [
    "for i in range (0, cpu_number):\n",
    "    try:\n",
    "        trappy.ILinePlot(tr.ftrace,\n",
    "                signals=[\n",
    "                            \"sched_dl_grub:total_bw:0x0,0x0,0xff\",\n",
    "                ],\n",
    "                pivot=\"cpu_id\",\n",
    "                filters={\"cpu_id\": [i]},\n",
    "                marker = '+',\n",
    "                drawstyle='steps-post',\n",
    "                per_line=1).view()\n",
    "    except Exception, err:\n",
    "        print \"No data for cpu \", i, \" \", err"
   ]
  },
  {
   "cell_type": "markdown",
   "metadata": {},
   "source": [
    "### Plot GRUB active bw"
   ]
  },
  {
   "cell_type": "code",
   "execution_count": 18,
   "metadata": {},
   "outputs": [
    {
     "name": "stdout",
     "output_type": "stream",
     "text": [
      "No data for cpu  0   No plots for the given constraints\n",
      "No data for cpu  1   No plots for the given constraints\n"
     ]
    },
    {
     "data": {
      "text/html": [
       "<table style=\"border-style: hidden;\">\n",
       "<tr>\n",
       "<td style=\"border-style: hidden;\"><div class=\"ilineplot\" id=\"fig_65481b565209489f9edfc3edb8cc3af3\"></div></td>\n",
       "</tr>\n",
       "<tr>\n",
       "<td style=\"border-style: hidden;\"><div style=\"text-align:center\" id=\"fig_65481b565209489f9edfc3edb8cc3af3_legend\"></div></td>\n",
       "</tr>\n",
       "</table>\n",
       "<script>\n",
       "var fig_65481b565209489f9edfc3edb8cc3af3_data = {\"logscale\": false, \"strokeWidth\": 1.0, \"pointSize\": 2, \"name\": \"fig_65481b565209489f9edfc3edb8cc3af3\", \"step_plot\": true, \"fill_graph\": false, \"title\": \"cpu_id: 2\", \"drawPoints\": false, \"per_line\": 1, \"height\": 400, \"rangesel\": false, \"data\": {\"labels\": [\"index\", \"Trace 0:sched_dl_grub:running_bw\"], \"data\": [[0.94333000000005995, 0], [0.9433420000004844, 349525], [0.94348199999967619, 0], [0.94349599999986822, 0], [0.94351999999980762, 0], [0.94353200000023207, 786432], [0.96057199999995646, 0], [1.9441150000002381, 0], [1.9441210000004503, 0], [2.9444020000000819, 0], [2.9444080000002941, 0], [3.9448389999997744, 0], [3.9448449999999866, 0], [4.9451200000003155, 0], [4.9451269999999568, 0], [5.9455799999996088, 0], [5.9455870000001596, 0], [6.9458649999996851, 0], [6.9458720000002359, 0], [7.9461490000003323, 0], [7.946154999999635, 0], [8.9464280000001963, 0], [8.9464340000004086, 0], [9.9468390000001818, 0], [9.9468459999998231, 0], [10.947111999999834, 0], [10.947118000000046, 0], [11.028011000000333, 71493], [11.029795999999806, 0], [11.029803999999785, 0], [11.02981600000021, 0], [11.029821000000084, 71493], [11.055414999999812, 0], [11.055421000000024, 0]]}};\n",
       "</script>\n",
       "<!-- TRAPPY_PUBLISH_SOURCE_LIB = \"http://cdnjs.cloudflare.com/ajax/libs/dygraph/1.1.1/dygraph-combined.js\" -->\n",
       "<!-- TRAPPY_PUBLISH_SOURCE_LIB = \"http://dygraphs.com/extras/synchronizer.js\" -->\n",
       "<!-- TRAPPY_PUBLISH_SOURCE_LIB = \"https://cdnjs.cloudflare.com/ajax/libs/underscore.js/1.8.3/underscore-min.js\" -->\n",
       "\n",
       "            <script>\n",
       "            /* TRAPPY_PUBLISH_IMPORT = \"plotter/js/ILinePlot.js\" */\n",
       "            /* TRAPPY_PUBLISH_REMOVE_START */\n",
       "            var ilp_req = require.config( {\n",
       "\n",
       "                paths: {\n",
       "                    \"dygraph-sync\": '/nbextensions/plotter_scripts/ILinePlot/synchronizer',\n",
       "                    \"dygraph\": '/nbextensions/plotter_scripts/ILinePlot/dygraph-combined',\n",
       "                    \"ILinePlot\": '/nbextensions/plotter_scripts/ILinePlot/ILinePlot',\n",
       "                    \"underscore\": '/nbextensions/plotter_scripts/ILinePlot/underscore-min',\n",
       "                },\n",
       "\n",
       "                shim: {\n",
       "                    \"dygraph-sync\": [\"dygraph\"],\n",
       "                    \"ILinePlot\": {\n",
       "\n",
       "                        \"deps\": [\"dygraph-sync\", \"dygraph\", \"underscore\"],\n",
       "                        \"exports\":  \"ILinePlot\"\n",
       "                    }\n",
       "                }\n",
       "            });\n",
       "                /* TRAPPY_PUBLISH_REMOVE_STOP */\n",
       "                ilp_req([\"require\", \"ILinePlot\"], function() { /* TRAPPY_PUBLISH_REMOVE_LINE */\n",
       "                ILinePlot.generate(fig_65481b565209489f9edfc3edb8cc3af3_data, [\"rgb(255, 0, 0)\"]);\n",
       "            }); /* TRAPPY_PUBLISH_REMOVE_LINE */\n",
       "            </script>\n",
       "        "
      ],
      "text/plain": [
       "<IPython.core.display.HTML object>"
      ]
     },
     "metadata": {},
     "output_type": "display_data"
    },
    {
     "name": "stdout",
     "output_type": "stream",
     "text": [
      "No data for cpu  3   No plots for the given constraints\n"
     ]
    }
   ],
   "source": [
    "for i in range (0, cpu_number):\n",
    "    try:\n",
    "        trappy.ILinePlot(tr.ftrace,\n",
    "                signals=[\n",
    "                            \"sched_dl_grub:running_bw:0x0ff,0x0,0x0\",\n",
    "                ],\n",
    "                pivot=\"cpu_id\",\n",
    "                filters={\"cpu_id\": [i]},\n",
    "                marker = '+',\n",
    "                drawstyle='steps-post',\n",
    "                per_line=1).view()\n",
    "    except Exception, err:\n",
    "        print \"No data for cpu \", i, \" \", err"
   ]
  },
  {
   "cell_type": "code",
   "execution_count": 19,
   "metadata": {
    "collapsed": true
   },
   "outputs": [],
   "source": [
    "#df = tr.data_frame.trace_event('sched_dl_grub')"
   ]
  },
  {
   "cell_type": "code",
   "execution_count": 20,
   "metadata": {},
   "outputs": [],
   "source": [
    "#trappy.BarPlot(df, column='running_bw').view()"
   ]
  },
  {
   "cell_type": "code",
   "execution_count": 21,
   "metadata": {},
   "outputs": [],
   "source": [
    "#trappy.BarPlot(df, column='total_bw').view()"
   ]
  },
  {
   "cell_type": "code",
   "execution_count": null,
   "metadata": {
    "collapsed": true
   },
   "outputs": [],
   "source": []
  }
 ],
 "metadata": {
  "celltoolbar": "Raw Cell Format",
  "kernelspec": {
   "display_name": "Python 2",
   "language": "python",
   "name": "python2"
  },
  "language_info": {
   "codemirror_mode": {
    "name": "ipython",
    "version": 2
   },
   "file_extension": ".py",
   "mimetype": "text/x-python",
   "name": "python",
   "nbconvert_exporter": "python",
   "pygments_lexer": "ipython2",
   "version": "2.7.12"
  }
 },
 "nbformat": 4,
 "nbformat_minor": 2
}
