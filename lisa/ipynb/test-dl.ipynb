{
 "cells": [
  {
   "cell_type": "markdown",
   "metadata": {},
   "source": [
    "# Target configuration"
   ]
  },
  {
   "cell_type": "code",
   "execution_count": 1,
   "metadata": {
    "collapsed": true
   },
   "outputs": [],
   "source": [
    "# Target configuration\n",
    "conf = {\n",
    "    \n",
    "    # Target type\n",
    "    \"platform\"    : 'linux',\n",
    "    \"board\"       : \"sabre\",\n",
    "    \n",
    "    # Login credentials\n",
    "    \"host\"        : \"192.168.10.162\",\n",
    "    \"username\"    : \"root\",\n",
    "    \"password\"    : \"temppwd\",\n",
    "\n",
    "    # Binary tools required to run this experiment\n",
    "    # These tools must be present in the tools/ folder for the architecture\n",
    "    \"tools\"   : ['taskset', 'trace-cmd'],\n",
    "    \n",
    "    # FTrace events end buffer configuration\n",
    "    \"ftrace\"  : {\n",
    "         \"events\" : [\n",
    "             \"sched_switch\",\n",
    "             \"sched_wakeup_new\",\n",
    "             \"sched_wakeup\",\n",
    "             \"sched_deadline_suspend\",\n",
    "             \"sched_deadline_replenish\",\n",
    "             \"cpu_frequency\",\n",
    "             \"sched_dl_grub\",\n",
    "             \"sched_load_avg_task\",\n",
    "         ],\n",
    "         \"buffsize\" : 10240\n",
    "    },\n",
    "}\n",
    "\n",
    "cpu_number = 4"
   ]
  },
  {
   "cell_type": "code",
   "execution_count": 2,
   "metadata": {
    "collapsed": true
   },
   "outputs": [],
   "source": [
    "import logging\n",
    "reload(logging)\n",
    "logging.basicConfig(\n",
    "    format='%(asctime)-9s %(levelname)-8s: %(message)s',\n",
    "    datefmt='%I:%M:%S')\n",
    "\n",
    "# Enable logging at INFO level\n",
    "logging.getLogger().setLevel(logging.DEBUG)"
   ]
  },
  {
   "cell_type": "code",
   "execution_count": 3,
   "metadata": {
    "collapsed": true
   },
   "outputs": [],
   "source": [
    "# Execute this cell to enabled devlib debugging statements\n",
    "logging.getLogger('ssh').setLevel(logging.DEBUG)"
   ]
  },
  {
   "cell_type": "code",
   "execution_count": 4,
   "metadata": {},
   "outputs": [
    {
     "name": "stdout",
     "output_type": "stream",
     "text": [
      "Populating the interactive namespace from numpy and matplotlib\n"
     ]
    }
   ],
   "source": [
    "# Generate plots inline\n",
    "%pylab inline\n",
    "\n",
    "# Other python modules required by this notebook\n",
    "import json\n",
    "import os\n",
    "import shutil"
   ]
  },
  {
   "cell_type": "code",
   "execution_count": 5,
   "metadata": {},
   "outputs": [
    {
     "name": "stderr",
     "output_type": "stream",
     "text": [
      "/usr/lib/python2.7/dist-packages/gtk-2.0/gtk/__init__.py:57: GtkWarning: could not open display\n",
      "  warnings.warn(str(e), _gtk.Warning)\n",
      "07:57:43  WARNING : Unusual max capacity (1023), overriding capacity_scale\n",
      "07:57:43  INFO    : Using base path: /lisa\n",
      "07:57:43  INFO    : Loading custom (inline) target configuration\n",
      "07:57:43  DEBUG   : Target configuration {'username': 'root', 'ftrace': {'buffsize': 10240, 'events': ['sched_switch', 'sched_wakeup_new', 'sched_wakeup', 'sched_deadline_suspend', 'sched_deadline_replenish', 'cpu_frequency', 'sched_dl_grub', 'sched_load_avg_task']}, 'platform': 'linux', 'host': '192.168.10.162', 'board': 'sabre', 'password': 'temppwd', 'tools': ['taskset', 'trace-cmd']}\n",
      "07:57:43  DEBUG   : Trying to load board descriptor from /lisa/libs/utils/platforms/sabre.json\n",
      "07:57:43  INFO    : Loading board:\n",
      "07:57:43  INFO    :    /lisa/libs/utils/platforms/sabre.json\n",
      "07:57:43  DEBUG   : loading JSON...\n",
      "07:57:43  DEBUG   : Loaded JSON configuration:\n",
      "07:57:43  DEBUG   :    {u'board': {u'cores': [u'A9', u'A9', u'A9', u'A9'], u'modules': [u'cpufreq']}}\n",
      "07:57:43  INFO    : Devlib modules to load: [u'cpufreq']\n",
      "07:57:43  INFO    : Connecting linux target:\n",
      "07:57:43  INFO    :   username : root\n",
      "07:57:43  INFO    :       host : 192.168.10.162\n",
      "07:57:43  INFO    :   password : temppwd\n",
      "07:57:43  INFO    : Connection settings:\n",
      "07:57:43  INFO    :    {'username': 'root', 'host': '192.168.10.162', 'password': 'temppwd'}\n",
      "07:57:43  DEBUG   : Setup LINUX target...\n",
      "07:57:43  DEBUG   : Logging in root@192.168.10.162\n",
      "07:57:44  DEBUG   : id\n",
      "07:57:45  DEBUG   : if [ -e '/root/devlib-target/bin' ]; then echo 1; else echo 0; fi\n",
      "07:57:45  DEBUG   : ls -1 /root/devlib-target/bin\n",
      "07:57:45  DEBUG   : uname -m\n",
      "07:57:46  DEBUG   : if [ -e '/sys/devices/system/cpu/cpufreq' ]; then echo 1; else echo 0; fi\n",
      "07:57:46  DEBUG   : Installing module cpufreq\n",
      "07:57:46  DEBUG   : Checking target connection...\n",
      "07:57:46  DEBUG   : Target info:\n",
      "07:57:46  DEBUG   :       ABI: armeabi\n",
      "07:57:46  DEBUG   : cat /proc/cpuinfo\n",
      "07:57:46  DEBUG   :      CPUs: CpuInfo(['A9', 'A9', 'A9', 'A9'])\n",
      "07:57:46  DEBUG   :  Clusters: [0, 0, 0, 0]\n",
      "07:57:46  INFO    : Initializing target workdir:\n",
      "07:57:46  INFO    :    /root/devlib-target\n",
      "07:57:46  DEBUG   : mkdir -p /root/devlib-target\n",
      "07:57:47  DEBUG   : mkdir -p /root/devlib-target/bin\n",
      "07:57:47  DEBUG   : /usr/bin/scp -r   /lisa/libs/devlib/devlib/bin/armeabi/busybox root@192.168.10.162:/root/devlib-target/bin/busybox\n",
      "07:57:48  DEBUG   : chmod a+x /root/devlib-target/bin/busybox\n",
      "07:57:48  DEBUG   : /usr/bin/scp -r   /lisa/libs/devlib/devlib/bin/scripts/shutils root@192.168.10.162:/root/devlib-target/bin/shutils\n",
      "07:57:49  DEBUG   : chmod a+x /root/devlib-target/bin/shutils\n",
      "07:57:49  DEBUG   : /usr/bin/scp -r   /lisa/tools/armeabi/trace-cmd root@192.168.10.162:/root/devlib-target/bin/trace-cmd\n",
      "07:57:50  DEBUG   : chmod a+x /root/devlib-target/bin/trace-cmd\n",
      "07:57:50  DEBUG   : /usr/bin/scp -r   /lisa/tools/armeabi/taskset root@192.168.10.162:/root/devlib-target/bin/taskset\n",
      "07:57:51  DEBUG   : chmod a+x /root/devlib-target/bin/taskset\n",
      "07:57:51  DEBUG   : Check for module [cpufreq]...\n",
      "07:57:51  INFO    : Attempting to read energy model from target\n",
      "07:57:51  ERROR   : Couldn't read target energy model: Requires cpuidle devlib module. Please ensure \"cpuidle\" is listed in your target/test modules\n",
      "07:57:51  INFO    : Topology:\n",
      "07:57:51  INFO    :    [[0, 1, 2, 3]]\n",
      "07:57:51  DEBUG   : cat /sys/devices/system/cpu/cpu0/cpufreq/scaling_available_frequencies\n",
      "07:57:51  DEBUG   : Trying to load default EM from /lisa/libs/utils/platforms/sabre.json\n",
      "07:57:51  INFO    : Loading default EM:\n",
      "07:57:51  INFO    :    /lisa/libs/utils/platforms/sabre.json\n",
      "07:57:51  DEBUG   : loading JSON...\n",
      "07:57:51  DEBUG   : Loaded JSON configuration:\n",
      "07:57:51  DEBUG   :    {u'board': {u'cores': [u'A9', u'A9', u'A9', u'A9'], u'modules': [u'cpufreq']}}\n",
      "07:57:51  DEBUG   : /root/devlib-target/bin/busybox uname -r -v\n",
      "07:57:52  DEBUG   : Platform descriptor initialized\n",
      "{'kernel': {'version_number': 4, 'sha1': '0a9e602', 'major': 11, 'parts': (4, 11, 0), 'version': '12 SMP Fri May 26 17:33:46 CEST 2017', 'rc': 6, 'release': '4.11.0-rc6-00078-g0a9e602', 'minor': 0}, 'abi': 'armeabi', 'freqs': {0: [396000, 792000, 996000]}, 'nrg_model': None, 'clusters': {0: [0, 1, 2, 3]}, 'cpus_count': 4, 'os': 'linux', 'topology': [[0, 1, 2, 3]]}\n",
      "07:57:52  DEBUG   : /usr/bin/scp -r   /lisa/libs/devlib/devlib/bin/armeabi/trace-cmd root@192.168.10.162:/root/devlib-target/bin/trace-cmd\n",
      "07:57:52  DEBUG   : chmod a+x /root/devlib-target/bin/trace-cmd\n",
      "07:57:53  DEBUG   : cat /sys/kernel/debug/tracing/available_events\n",
      "07:57:53  WARNING : Event [sched_deadline_suspend] not available for tracing\n",
      "07:57:53  WARNING : Event [sched_deadline_replenish] not available for tracing\n",
      "07:57:53  WARNING : Event [sched_load_avg_task] not available for tracing\n",
      "07:57:53  INFO    : Enabled tracepoints:\n",
      "07:57:53  INFO    :    sched_switch\n",
      "07:57:53  INFO    :    sched_wakeup_new\n",
      "07:57:53  INFO    :    sched_wakeup\n",
      "07:57:53  INFO    :    sched_deadline_suspend\n",
      "07:57:53  INFO    :    sched_deadline_replenish\n",
      "07:57:53  INFO    :    cpu_frequency\n",
      "07:57:53  INFO    :    sched_dl_grub\n",
      "07:57:53  INFO    :    sched_load_avg_task\n",
      "07:57:53  DEBUG   : No RT-App workloads, skipping calibration\n",
      "07:57:53  INFO    : Set results folder to:\n",
      "07:57:53  INFO    :    /lisa/results/20170605_075753\n",
      "07:57:53  INFO    : Experiment results available also in:\n",
      "07:57:53  INFO    :    /lisa/results_latest\n"
     ]
    }
   ],
   "source": [
    " #Support to access the remote target\n",
    "from env import TestEnv\n",
    "\n",
    "# Initialize a test environment\n",
    "te = TestEnv(conf)\n",
    "target = te.target"
   ]
  },
  {
   "cell_type": "code",
   "execution_count": 6,
   "metadata": {
    "collapsed": true
   },
   "outputs": [],
   "source": [
    "def execute(te, target_test_dir, target_test_command, target_res_dir, host_res_dir):\n",
    "    \n",
    "    logging.info('# Create results folder for this execution')\n",
    "    !rm -fr {host_res_dir}\n",
    "    !mkdir {host_res_dir}\n",
    "\n",
    "    ##logging.info('## Start energy sampling')\n",
    "    ##te.emeter.reset()\n",
    "\n",
    "    logging.info('### Start Command')\n",
    "    te.target.execute(\"cd \" + target_test_dir)\n",
    "    te.target.execute(target_test_command)\n",
    "\n",
    "    ##logging.info('## Read energy consumption: %s/energy.json', host_res_dir)\n",
    "    ##nrg_report = te.emeter.report(out_dir=host_res_dir)\n",
    "\n",
    "    host_trace_file = os.path.join(host_res_dir, 'trace.dat')\n",
    "    target_trace_file = os.path.join(target_res_dir, 'trace.dat')\n",
    "    logging.info('# Save FTrace: %s', host_trace_file)\n",
    "    te.ftrace.target.pull(target_trace_file, host_res_dir, timeout=100)\n",
    " \n",
    "    logging.info('# Save platform description: %s/platform.json', host_res_dir)\n",
    "    plt, plt_file = te.platform_dump(host_res_dir)\n",
    "    \n",
    "    logging.info('# Report collected data:')\n",
    "    logging.info('   %s', host_res_dir)\n",
    "    !ls -la {host_res_dir}\n",
    "    \n",
    "    return plt, plt_file, host_trace_file ##, nrg_report"
   ]
  },
  {
   "cell_type": "markdown",
   "metadata": {},
   "source": [
    "# Test 1 (schedutil)"
   ]
  },
  {
   "cell_type": "code",
   "execution_count": 7,
   "metadata": {
    "collapsed": true
   },
   "outputs": [],
   "source": [
    "# Test name\n",
    "test_name = \"T0003-two-tasks\"\n",
    "\n",
    "# Target's main directory containing the testsuite \n",
    "target_test_dir =\"/home/ubuntu/test-dl/\"\n",
    "\n",
    "# Target's command to run the test\n",
    "target_test_command = \"sudo ./run.sh \" + test_name\n",
    "\n",
    "# Target's command to run the test\n",
    "target_res_dir = os.path.join(\"/home/ubuntu/test-dl/\", test_name);\n",
    "\n",
    "# Host's directory that will contain the test results\n",
    "host_res_dir = \"/tmp/test-dl/\""
   ]
  },
  {
   "cell_type": "code",
   "execution_count": 8,
   "metadata": {},
   "outputs": [
    {
     "name": "stderr",
     "output_type": "stream",
     "text": [
      "07:57:53  INFO    : # Create results folder for this execution\n",
      "07:57:53  INFO    : ### Start Command\n",
      "07:57:54  DEBUG   : cd /home/ubuntu/test-dl/\n",
      "07:57:54  DEBUG   : sudo ./run.sh T0003-two-tasks\n",
      "07:58:32  INFO    : # Save FTrace: /tmp/test-dl/trace.dat\n",
      "07:58:32  DEBUG   : /usr/bin/scp -r   root@192.168.10.162:/home/ubuntu/test-dl/T0003-two-tasks/trace.dat /tmp/test-dl/\n",
      "07:58:32  INFO    : # Save platform description: /tmp/test-dl//platform.json\n",
      "07:58:32  DEBUG   : Dump platform descriptor in [/tmp/test-dl/platform.json]\n",
      "07:58:32  INFO    : # Report collected data:\n",
      "07:58:32  INFO    :    /tmp/test-dl/\n"
     ]
    },
    {
     "name": "stdout",
     "output_type": "stream",
     "text": [
      "total 4488\r\n",
      "drwxrwxr-x  2 lisa lisa    4096 Jun  5 07:58 .\r\n",
      "drwxrwxrwt 17 root root    4096 Jun  5 07:57 ..\r\n",
      "-rw-rw-r--  1 lisa lisa     748 Jun  5 07:58 platform.json\r\n",
      "-rw-r--r--  1 lisa lisa 4583424 Jun  5 07:58 trace.dat\r\n"
     ]
    }
   ],
   "source": [
    "plt, plt_file, trace_file = execute(te, target_test_dir, target_test_command, target_res_dir, host_res_dir)"
   ]
  },
  {
   "cell_type": "code",
   "execution_count": 9,
   "metadata": {
    "collapsed": true
   },
   "outputs": [],
   "source": [
    "!kernelshark {trace_file} 2>/dev/null"
   ]
  },
  {
   "cell_type": "code",
   "execution_count": 10,
   "metadata": {
    "collapsed": true
   },
   "outputs": [],
   "source": [
    "# Support for trace events analysis\n",
    "from trace import Trace\n",
    "\n",
    "# Suport for FTrace events parsing and visualization\n",
    "import trappy"
   ]
  },
  {
   "cell_type": "code",
   "execution_count": 11,
   "metadata": {},
   "outputs": [
    {
     "name": "stderr",
     "output_type": "stream",
     "text": [
      "07:58:33  DEBUG   : Loading [sched] events from trace in [/tmp/test-dl/]...\n",
      "07:58:33  DEBUG   : Parsing events: ['sched_switch', 'sched_wakeup_new', 'sched_wakeup', 'sched_deadline_suspend', 'sched_deadline_replenish', 'cpu_frequency', 'sched_dl_grub', 'sched_load_avg_task', 'cpu_frequency_devlib']\n",
      "07:58:33  DEBUG   : Parsing FTrace format...\n",
      "07:58:33  DEBUG   : Events found on trace:\n",
      "07:58:33  DEBUG   :  - sched_dl_grub\n",
      "07:58:33  DEBUG   :  - cpu_frequency\n",
      "07:58:33  DEBUG   :  - sched_wakeup_new\n",
      "07:58:33  DEBUG   :  - sched_switch\n",
      "07:58:33  DEBUG   :  - sched_wakeup\n",
      "07:58:33  DEBUG   : Lookup dataset for tasks...\n",
      "07:58:33  DEBUG   : Lookup for task [run.sh]...\n",
      "07:58:33  DEBUG   :   task           run.sh found, pid: [3134, 3125, 3135, 3136, 3138, 3139, 3140, 3141, 3142]\n",
      "07:58:33  DEBUG   : Lookup for task [swapper/0]...\n",
      "07:58:33  DEBUG   :   task        swapper/0 found, pid: [0]\n",
      "07:58:33  DEBUG   : Lookup for task [swapper/3]...\n",
      "07:58:33  DEBUG   :   task        swapper/3 found, pid: [0]\n",
      "07:58:33  DEBUG   : Lookup for task [rcu_sched]...\n",
      "07:58:33  DEBUG   :   task        rcu_sched found, pid: [8]\n",
      "07:58:33  DEBUG   : Lookup for task [T0003-two-tasks]...\n",
      "07:58:33  DEBUG   :   task  T0003-two-tasks found, pid: [3137]\n",
      "07:58:33  DEBUG   : Lookup for task [swapper/2]...\n",
      "07:58:33  DEBUG   :   task        swapper/2 found, pid: [0]\n",
      "07:58:33  DEBUG   : Lookup for task [ksoftirqd/3]...\n",
      "07:58:33  DEBUG   :   task      ksoftirqd/3 found, pid: [24]\n",
      "07:58:33  DEBUG   : Lookup for task [sugov:0]...\n",
      "07:58:33  DEBUG   :   task          sugov:0 found, pid: [159]\n",
      "07:58:33  DEBUG   : Lookup for task [apache2]...\n",
      "07:58:33  DEBUG   :   task          apache2 found, pid: [717, 739, 681]\n",
      "07:58:33  DEBUG   : Lookup for task [kworker/3:0]...\n",
      "07:58:33  DEBUG   :   task      kworker/3:0 found, pid: [2875]\n",
      "07:58:33  DEBUG   : Lookup for task [kworker/u8:2]...\n",
      "07:58:33  DEBUG   :   task     kworker/u8:2 found, pid: [3004]\n",
      "07:58:33  DEBUG   : Lookup for task [cron]...\n",
      "07:58:33  DEBUG   :   task             cron found, pid: [472]\n",
      "07:58:33  DEBUG   : Lookup for task [sleep]...\n",
      "07:58:33  DEBUG   :   task            sleep found, pid: [3136, 3139]\n",
      "07:58:33  DEBUG   : Lookup for task [sshd]...\n",
      "07:58:33  DEBUG   :   task             sshd found, pid: [2975]\n",
      "07:58:33  DEBUG   : Lookup for task [killall]...\n",
      "07:58:33  DEBUG   :   task          killall found, pid: [3138]\n",
      "07:58:33  DEBUG   : Lookup for task [kworker/0:2]...\n",
      "07:58:33  DEBUG   :   task      kworker/0:2 found, pid: [1514]\n",
      "07:58:33  DEBUG   : Lookup for task [kworker/2:2]...\n",
      "07:58:33  DEBUG   :   task      kworker/2:2 found, pid: [2849]\n",
      "07:58:33  DEBUG   : Lookup for task [kworker/1:0]...\n",
      "07:58:33  DEBUG   :   task      kworker/1:0 found, pid: [2974]\n",
      "07:58:33  DEBUG   : Lookup for task [kworker/1:1]...\n",
      "07:58:33  DEBUG   :   task      kworker/1:1 found, pid: [3047]\n",
      "07:58:33  DEBUG   : Lookup for task [swapper/1]...\n",
      "07:58:33  DEBUG   :   task        swapper/1 found, pid: [0]\n",
      "07:58:33  DEBUG   : Lookup for task [ksoftirqd/1]...\n",
      "07:58:33  DEBUG   :   task      ksoftirqd/1 found, pid: [14]\n",
      "07:58:33  DEBUG   : Lookup for task [mmcqd/0]...\n",
      "07:58:33  DEBUG   :   task          mmcqd/0 found, pid: [157]\n",
      "07:58:33  DEBUG   : Lookup for task [kworker/0:1H]...\n",
      "07:58:33  DEBUG   :   task     kworker/0:1H found, pid: [203]\n",
      "07:58:33  DEBUG   : Lookup for task [trace-cmd]...\n",
      "07:58:33  DEBUG   :   task        trace-cmd found, pid: [3142]\n",
      "07:58:33  DEBUG   : Collected events spans a 13.118 [s] time interval\n",
      "07:58:33  DEBUG   : Set plots time range to (0.000000, 13.118065)[s]\n",
      "07:58:33  DEBUG   : Registering [<trace.Trace object at 0x7f02557ca690>] local data frames\n",
      "07:58:33  DEBUG   :    functions_stats\n",
      "07:58:33  DEBUG   :    trace_event\n",
      "07:58:33  DEBUG   : Analysis: /lisa/libs/utils/analysis\n",
      "07:58:33  DEBUG   : Syspath: ['/lisa/libs/utils/analysis', '', '/lisa/libs/bart', '/lisa/libs/trappy', '/lisa/libs/devlib', '/lisa', '/lisa/libs/wlgen', '/lisa/libs/utils', '/lisa/ipynb', '/usr/lib/python2.7', '/usr/lib/python2.7/plat-x86_64-linux-gnu', '/usr/lib/python2.7/lib-tk', '/usr/lib/python2.7/lib-old', '/usr/lib/python2.7/lib-dynload', '/usr/local/lib/python2.7/dist-packages', '/usr/lib/python2.7/dist-packages', '/usr/lib/python2.7/dist-packages/PILcompat', '/usr/lib/python2.7/dist-packages/gtk-2.0', '/usr/local/lib/python2.7/dist-packages/IPython/extensions', '/home/lisa/.ipython']\n",
      "07:58:33  DEBUG   : Registering trace analysis modules:\n",
      "07:58:33  DEBUG   : Filename: idle_analysis\n",
      "07:58:33  DEBUG   : Platform data without Energy Model info\n",
      "07:58:33  DEBUG   : Parsing SMP clusters\n",
      "07:58:33  DEBUG   : Registering [<idle_analysis.IdleAnalysis object at 0x7f02557bd410>] local data frames\n",
      "07:58:33  DEBUG   :    cluster_idle_state_residency\n",
      "07:58:33  DEBUG   :    cpu_idle_state_residency\n",
      "07:58:33  DEBUG   :    trace_event\n",
      "07:58:33  DEBUG   :    idle\n",
      "07:58:33  DEBUG   : Filename: functions_analysis\n",
      "07:58:33  DEBUG   : Platform data without Energy Model info\n",
      "07:58:33  DEBUG   : Parsing SMP clusters\n",
      "07:58:33  DEBUG   : Registering [<functions_analysis.FunctionsAnalysis object at 0x7f025576b350>] local data frames\n",
      "07:58:33  DEBUG   :    trace_event\n",
      "07:58:33  DEBUG   :    functions\n",
      "07:58:33  DEBUG   : Filename: frequency_analysis\n",
      "07:58:33  DEBUG   : Platform data without Energy Model info\n",
      "07:58:33  DEBUG   : Parsing SMP clusters\n",
      "07:58:33  DEBUG   : Registering [<frequency_analysis.FrequencyAnalysis object at 0x7f025576b590>] local data frames\n",
      "07:58:33  DEBUG   :    cluster_frequency_residency\n",
      "07:58:33  DEBUG   :    cpu_frequency_residency\n",
      "07:58:33  DEBUG   :    trace_event\n",
      "07:58:33  DEBUG   :    frequency\n",
      "07:58:33  DEBUG   : Filename: cpus_analysis\n",
      "07:58:33  DEBUG   : Platform data without Energy Model info\n",
      "07:58:33  DEBUG   : Parsing SMP clusters\n",
      "07:58:33  DEBUG   : Registering [<cpus_analysis.CpusAnalysis object at 0x7f025576b910>] local data frames\n",
      "07:58:33  DEBUG   :    context_switches\n",
      "07:58:33  DEBUG   :    trace_event\n",
      "07:58:33  DEBUG   :    cpus\n",
      "07:58:33  DEBUG   : Filename: status_analysis\n",
      "07:58:33  DEBUG   : Platform data without Energy Model info\n",
      "07:58:33  DEBUG   : Parsing SMP clusters\n",
      "07:58:33  DEBUG   : Registering [<status_analysis.StatusAnalysis object at 0x7f025576bb90>] local data frames\n",
      "07:58:33  DEBUG   :    overutilized\n",
      "07:58:33  DEBUG   :    trace_event\n",
      "07:58:33  DEBUG   :    status\n",
      "07:58:33  DEBUG   : Filename: tasks_analysis\n",
      "07:58:33  DEBUG   : Platform data without Energy Model info\n",
      "07:58:33  DEBUG   : Parsing SMP clusters\n",
      "07:58:33  DEBUG   : Registering [<tasks_analysis.TasksAnalysis object at 0x7f02556f1690>] local data frames\n",
      "07:58:33  DEBUG   :    rt_tasks\n",
      "07:58:33  DEBUG   :    top_big_tasks\n",
      "07:58:33  DEBUG   :    top_wakeup_tasks\n",
      "07:58:33  DEBUG   :    trace_event\n",
      "07:58:33  DEBUG   :    tasks\n",
      "07:58:33  DEBUG   : Filename: latency_analysis\n",
      "07:58:33  DEBUG   : Platform data without Energy Model info\n",
      "07:58:33  DEBUG   : Parsing SMP clusters\n",
      "07:58:33  DEBUG   : Registering [<latency_analysis.LatencyAnalysis object at 0x7f025570f610>] local data frames\n",
      "07:58:33  DEBUG   :    activations_df\n",
      "07:58:33  DEBUG   :    latency_df\n",
      "07:58:33  DEBUG   :    latency_preemption_df\n",
      "07:58:33  DEBUG   :    latency_wakeup_df\n",
      "07:58:33  DEBUG   :    runtimes_df\n",
      "07:58:33  DEBUG   :    trace_event\n",
      "07:58:33  DEBUG   :    latency\n",
      "07:58:33  DEBUG   : Filename: eas_analysis\n",
      "07:58:33  DEBUG   : Platform data without Energy Model info\n",
      "07:58:33  DEBUG   : Parsing SMP clusters\n",
      "07:58:33  DEBUG   : Registering [<eas_analysis.EasAnalysis object at 0x7f025570f9d0>] local data frames\n",
      "07:58:33  DEBUG   :    trace_event\n",
      "07:58:33  DEBUG   :    eas\n"
     ]
    }
   ],
   "source": [
    "# Parse trace\n",
    "# This will create trace.txt\n",
    "tr = Trace(te.platform, \n",
    "           host_res_dir,\n",
    "           events=conf['ftrace']['events'])"
   ]
  },
  {
   "cell_type": "markdown",
   "metadata": {},
   "source": [
    "### Plot frequency"
   ]
  },
  {
   "cell_type": "code",
   "execution_count": 12,
   "metadata": {},
   "outputs": [
    {
     "name": "stderr",
     "output_type": "stream",
     "text": [
      "07:58:34  WARNING : Event [sched_overutilized] not found, plot DISABLED!\n",
      "07:58:34  INFO    : CPU00 average frequency: 0.000 GHz\n",
      "07:58:34  WARNING : Event [sched_overutilized] not found, plot DISABLED!\n",
      "07:58:34  INFO    : CPU01 average frequency: 0.000 GHz\n",
      "07:58:34  WARNING : Event [sched_overutilized] not found, plot DISABLED!\n",
      "07:58:34  INFO    : CPU02 average frequency: 0.000 GHz\n",
      "07:58:34  WARNING : Event [sched_overutilized] not found, plot DISABLED!\n",
      "07:58:34  INFO    : CPU03 average frequency: 0.000 GHz\n"
     ]
    },
    {
     "data": {
      "text/plain": [
       "{0: 0.0, 1: 0.0, 2: 0.0, 3: 0.0}"
      ]
     },
     "execution_count": 12,
     "metadata": {},
     "output_type": "execute_result"
    },
    {
     "data": {
      "image/png": "[encoded data removed]",
      "text/plain": [
       "<matplotlib.figure.Figure at 0x7f02557ca450>"
      ]
     },
     "metadata": {},
     "output_type": "display_data"
    }
   ],
   "source": [
    "tr.analysis.frequency.plotCPUFrequencies()"
   ]
  },
  {
   "cell_type": "markdown",
   "metadata": {},
   "source": [
    "### Plot execution"
   ]
  },
  {
   "cell_type": "code",
   "execution_count": 13,
   "metadata": {
    "collapsed": true
   },
   "outputs": [],
   "source": [
    "#tr.analysis.tasks.plotTasks()"
   ]
  },
  {
   "cell_type": "code",
   "execution_count": 14,
   "metadata": {
    "scrolled": false
   },
   "outputs": [
    {
     "data": {
      "text/html": [
       "<style>\n",
       "/*\n",
       " *    Copyright 2015-2016 ARM Limited\n",
       " *\n",
       " * Licensed under the Apache License, Version 2.0 (the \"License\");\n",
       " * you may not use this file except in compliance with the License.\n",
       " * You may obtain a copy of the License at\n",
       " *\n",
       " *     http://www.apache.org/licenses/LICENSE-2.0\n",
       " *\n",
       " * Unless required by applicable law or agreed to in writing, software\n",
       " * distributed under the License is distributed on an \"AS IS\" BASIS,\n",
       " * WITHOUT WARRANTIES OR CONDITIONS OF ANY KIND, either express or implied.\n",
       " * See the License for the specific language governing permissions and\n",
       " * limitations under the License.\n",
       " */\n",
       "\n",
       ".d3-tip {\n",
       "  line-height: 1;\n",
       "  padding: 12px;\n",
       "  background: rgba(0, 0, 0, 0.6);\n",
       "  color: #fff;\n",
       "  border-radius: 2px;\n",
       "  position: absolute !important;\n",
       "  z-index: 99999;\n",
       "}\n",
       "\n",
       ".d3-tip:after {\n",
       "  box-sizing: border-box;\n",
       "  pointer-events: none;\n",
       "  display: inline;\n",
       "  font-size: 10px;\n",
       "  width: 100%;\n",
       "  line-height: 1;\n",
       "  color: rgba(0, 0, 0, 0.6);\n",
       "  content: \"\\25BC\";\n",
       "  position: absolute !important;\n",
       "  z-index: 99999;\n",
       "  text-align: center;\n",
       "}\n",
       "\n",
       ".d3-tip.n:after {\n",
       "  margin: -1px 0 0 0;\n",
       "  top: 100%;\n",
       "  left: 0;\n",
       "}\n",
       "\n",
       ".contextRect {\n",
       "  fill: lightgray;\n",
       "  fill-opacity: 0.5;\n",
       "  stroke: black;\n",
       "  stroke-width: 1;\n",
       "  stroke-opacity: 1;\n",
       "  pointer-events: none;\n",
       "  shape-rendering: crispEdges;\n",
       "}\n",
       "\n",
       ".chart {\n",
       "  shape-rendering: crispEdges;\n",
       "}\n",
       "\n",
       ".mini text {\n",
       "  font: 9px sans-serif;\n",
       "}\n",
       "\n",
       ".main text {\n",
       "  font: 12px sans-serif;\n",
       "}\n",
       "\n",
       ".axis line, .axis path {\n",
       "  stroke: black;\n",
       "}\n",
       "\n",
       ".miniItem {\n",
       "  stroke-width: 8;\n",
       "}\n",
       "\n",
       ".brush .extent {\n",
       "\n",
       "  stroke: #000;\n",
       "  fill-opacity: .125;\n",
       "  shape-rendering: crispEdges;\n",
       "}\n",
       "</style>\n",
       "<div id=\"fig_0a1663bfbd7243b19a56340d89d03198\" class=\"eventplot\">\n",
       "<!-- TRAPPY_PUBLISH_SOURCE_LIB = \"https://cdnjs.cloudflare.com/ajax/libs/d3/3.5.6/d3.min.js\" -->\n",
       "<!-- TRAPPY_PUBLISH_SOURCE_LIB = \"http://labratrevenge.com/d3-tip/javascripts/d3.tip.v0.6.3.js\" -->\n",
       "\n",
       "        <script>\n",
       "            /* TRAPPY_PUBLISH_IMPORT = \"plotter/js/EventPlot.js\" */\n",
       "            /* TRAPPY_PUBLISH_REMOVE_START */\n",
       "            var req = require.config( {\n",
       "\n",
       "                paths: {\n",
       "\n",
       "                    \"EventPlot\": '/nbextensions/plotter_scripts/EventPlot/EventPlot',\n",
       "                    \"d3-tip\": '/nbextensions/plotter_scripts/EventPlot/d3.tip.v0.6.3',\n",
       "                    \"d3-plotter\": '/nbextensions/plotter_scripts/EventPlot/d3.min'\n",
       "                },\n",
       "                waitSeconds: 15,\n",
       "                shim: {\n",
       "                    \"d3-plotter\" : {\n",
       "                        \"exports\" : \"d3\"\n",
       "                    },\n",
       "                    \"d3-tip\": [\"d3-plotter\"],\n",
       "                    \"EventPlot\": {\n",
       "\n",
       "                        \"deps\": [\"d3-tip\", \"d3-plotter\" ],\n",
       "                        \"exports\":  \"EventPlot\"\n",
       "                    }\n",
       "                }\n",
       "            });\n",
       "            /* TRAPPY_PUBLISH_REMOVE_STOP */\n",
       "            \n",
       "        req([\"require\", \"EventPlot\"], function() { /* TRAPPY_PUBLISH_REMOVE_LINE */\n",
       "            EventPlot.generate('fig_0a1663bfbd7243b19a56340d89d03198', '/nbextensions/', {\"lanes\": [{\"id\": 0, \"label\": \"CPU :0\"}, {\"id\": 1, \"label\": \"CPU :1\"}, {\"id\": 2, \"label\": \"CPU :2\"}, {\"id\": 3, \"label\": \"CPU :3\"}], \"colorMap\": null, \"keys\": [\"run.sh-3135\", \"T0003-two-tasks-3137\"], \"stride\": false, \"showSummary\": true, \"xDomain\": [0.00031200000012177043, 13.119314999999915], \"data\": {\"run.sh-3135\": {\"1\": [[0.012849000000642263, 10.062766000000011]]}, \"T0003-two-tasks-3137\": {\"0\": [[0.024226999999882537, 10.062211000000389]]}}});\n",
       "        }); /* TRAPPY_PUBLISH_REMOVE_LINE */\n",
       "        </script>\n",
       "        </div>"
      ],
      "text/plain": [
       "<IPython.core.display.HTML object>"
      ]
     },
     "metadata": {},
     "output_type": "display_data"
    }
   ],
   "source": [
    "df = tr.ftrace.sched_switch.data_frame\n",
    "a = df[df['__comm'].str.contains('T00')][['__pid']]\n",
    "pids_set=set([])\n",
    "for i in a.index:\n",
    "    pid = a.get_value(i, '__pid')\n",
    "    #print \"Adding pid \", pid\n",
    "    if isinstance(pid, int):\n",
    "        pids_set.add(pid)\n",
    "pids_list=list(pids_set)\n",
    "#print \"Plotting pids: \", pids_list\n",
    "trappy.plotter.plot_trace(host_res_dir, \"\", pids_list)"
   ]
  },
  {
   "cell_type": "markdown",
   "metadata": {},
   "source": [
    "### Plot GRUB total bw"
   ]
  },
  {
   "cell_type": "code",
   "execution_count": 15,
   "metadata": {
    "scrolled": false
   },
   "outputs": [
    {
     "data": {
      "text/html": [
       "<table style=\"border-style: hidden;\">\n",
       "<tr>\n",
       "<td style=\"border-style: hidden;\"><div class=\"ilineplot\" id=\"fig_e4186eaa97a14b6181ac3cb59d774c24\"></div></td>\n",
       "</tr>\n",
       "<tr>\n",
       "<td style=\"border-style: hidden;\"><div style=\"text-align:center\" id=\"fig_e4186eaa97a14b6181ac3cb59d774c24_legend\"></div></td>\n",
       "</tr>\n",
       "</table>\n",
       "<script>\n",
       "var fig_e4186eaa97a14b6181ac3cb59d774c24_data = {\"logscale\": false, \"strokeWidth\": 1.0, \"pointSize\": 2, \"name\": \"fig_e4186eaa97a14b6181ac3cb59d774c24\", \"step_plot\": true, \"fill_graph\": false, \"title\": \"cpu_id: 0\", \"drawPoints\": false, \"per_line\": 1, \"height\": 400, \"rangesel\": false, \"data\": {\"labels\": [\"index\", \"Trace 0:sched_dl_grub:total_bw\"], \"data\": [[0.023091000000022177, 786432], [0.023097000000234402, 786432], [0.10847800000010466, 786432], [0.10848900000019057, 786432], [10.060798999999861, 786432], [10.060822000000371, 0], [10.060833999999886, 786432], [10.060838000000331, 786432], [10.060927000000447, 786432], [10.060940000000301, 0]]}};\n",
       "</script>\n",
       "<!-- TRAPPY_PUBLISH_SOURCE_LIB = \"http://cdnjs.cloudflare.com/ajax/libs/dygraph/1.1.1/dygraph-combined.js\" -->\n",
       "<!-- TRAPPY_PUBLISH_SOURCE_LIB = \"http://dygraphs.com/extras/synchronizer.js\" -->\n",
       "<!-- TRAPPY_PUBLISH_SOURCE_LIB = \"https://cdnjs.cloudflare.com/ajax/libs/underscore.js/1.8.3/underscore-min.js\" -->\n",
       "\n",
       "            <script>\n",
       "            /* TRAPPY_PUBLISH_IMPORT = \"plotter/js/ILinePlot.js\" */\n",
       "            /* TRAPPY_PUBLISH_REMOVE_START */\n",
       "            var ilp_req = require.config( {\n",
       "\n",
       "                paths: {\n",
       "                    \"dygraph-sync\": '/nbextensions/plotter_scripts/ILinePlot/synchronizer',\n",
       "                    \"dygraph\": '/nbextensions/plotter_scripts/ILinePlot/dygraph-combined',\n",
       "                    \"ILinePlot\": '/nbextensions/plotter_scripts/ILinePlot/ILinePlot',\n",
       "                    \"underscore\": '/nbextensions/plotter_scripts/ILinePlot/underscore-min',\n",
       "                },\n",
       "\n",
       "                shim: {\n",
       "                    \"dygraph-sync\": [\"dygraph\"],\n",
       "                    \"ILinePlot\": {\n",
       "\n",
       "                        \"deps\": [\"dygraph-sync\", \"dygraph\", \"underscore\"],\n",
       "                        \"exports\":  \"ILinePlot\"\n",
       "                    }\n",
       "                }\n",
       "            });\n",
       "                /* TRAPPY_PUBLISH_REMOVE_STOP */\n",
       "                ilp_req([\"require\", \"ILinePlot\"], function() { /* TRAPPY_PUBLISH_REMOVE_LINE */\n",
       "                ILinePlot.generate(fig_e4186eaa97a14b6181ac3cb59d774c24_data, [\"rgb(0, 0, 255)\"]);\n",
       "            }); /* TRAPPY_PUBLISH_REMOVE_LINE */\n",
       "            </script>\n",
       "        "
      ],
      "text/plain": [
       "<IPython.core.display.HTML object>"
      ]
     },
     "metadata": {},
     "output_type": "display_data"
    },
    {
     "data": {
      "text/html": [
       "<table style=\"border-style: hidden;\">\n",
       "<tr>\n",
       "<td style=\"border-style: hidden;\"><div class=\"ilineplot\" id=\"fig_90a8cb03f99841cb93a2995c1031d2a1\"></div></td>\n",
       "</tr>\n",
       "<tr>\n",
       "<td style=\"border-style: hidden;\"><div style=\"text-align:center\" id=\"fig_90a8cb03f99841cb93a2995c1031d2a1_legend\"></div></td>\n",
       "</tr>\n",
       "</table>\n",
       "<script>\n",
       "var fig_90a8cb03f99841cb93a2995c1031d2a1_data = {\"logscale\": false, \"strokeWidth\": 1.0, \"pointSize\": 2, \"name\": \"fig_90a8cb03f99841cb93a2995c1031d2a1\", \"step_plot\": true, \"fill_graph\": false, \"title\": \"cpu_id: 1\", \"drawPoints\": false, \"per_line\": 1, \"height\": 400, \"rangesel\": false, \"data\": {\"labels\": [\"index\", \"Trace 0:sched_dl_grub:total_bw\"], \"data\": [[0.023059000000102969, 786432], [0.023065000000315194, 786432], [10.061408000000483, 786432], [10.061423000000104, 0], [10.061427999999978, 786432], [10.061429999999746, 786432], [10.061485999999604, 786432], [10.06149699999969, 0]]}};\n",
       "</script>\n",
       "<!-- TRAPPY_PUBLISH_SOURCE_LIB = \"http://cdnjs.cloudflare.com/ajax/libs/dygraph/1.1.1/dygraph-combined.js\" -->\n",
       "<!-- TRAPPY_PUBLISH_SOURCE_LIB = \"http://dygraphs.com/extras/synchronizer.js\" -->\n",
       "<!-- TRAPPY_PUBLISH_SOURCE_LIB = \"https://cdnjs.cloudflare.com/ajax/libs/underscore.js/1.8.3/underscore-min.js\" -->\n",
       "\n",
       "            <script>\n",
       "            /* TRAPPY_PUBLISH_IMPORT = \"plotter/js/ILinePlot.js\" */\n",
       "            /* TRAPPY_PUBLISH_REMOVE_START */\n",
       "            var ilp_req = require.config( {\n",
       "\n",
       "                paths: {\n",
       "                    \"dygraph-sync\": '/nbextensions/plotter_scripts/ILinePlot/synchronizer',\n",
       "                    \"dygraph\": '/nbextensions/plotter_scripts/ILinePlot/dygraph-combined',\n",
       "                    \"ILinePlot\": '/nbextensions/plotter_scripts/ILinePlot/ILinePlot',\n",
       "                    \"underscore\": '/nbextensions/plotter_scripts/ILinePlot/underscore-min',\n",
       "                },\n",
       "\n",
       "                shim: {\n",
       "                    \"dygraph-sync\": [\"dygraph\"],\n",
       "                    \"ILinePlot\": {\n",
       "\n",
       "                        \"deps\": [\"dygraph-sync\", \"dygraph\", \"underscore\"],\n",
       "                        \"exports\":  \"ILinePlot\"\n",
       "                    }\n",
       "                }\n",
       "            });\n",
       "                /* TRAPPY_PUBLISH_REMOVE_STOP */\n",
       "                ilp_req([\"require\", \"ILinePlot\"], function() { /* TRAPPY_PUBLISH_REMOVE_LINE */\n",
       "                ILinePlot.generate(fig_90a8cb03f99841cb93a2995c1031d2a1_data, [\"rgb(0, 0, 255)\"]);\n",
       "            }); /* TRAPPY_PUBLISH_REMOVE_LINE */\n",
       "            </script>\n",
       "        "
      ],
      "text/plain": [
       "<IPython.core.display.HTML object>"
      ]
     },
     "metadata": {},
     "output_type": "display_data"
    },
    {
     "data": {
      "text/html": [
       "<table style=\"border-style: hidden;\">\n",
       "<tr>\n",
       "<td style=\"border-style: hidden;\"><div class=\"ilineplot\" id=\"fig_810109b88281476e94c175c73a363d87\"></div></td>\n",
       "</tr>\n",
       "<tr>\n",
       "<td style=\"border-style: hidden;\"><div style=\"text-align:center\" id=\"fig_810109b88281476e94c175c73a363d87_legend\"></div></td>\n",
       "</tr>\n",
       "</table>\n",
       "<script>\n",
       "var fig_810109b88281476e94c175c73a363d87_data = {\"logscale\": false, \"strokeWidth\": 1.0, \"pointSize\": 2, \"name\": \"fig_810109b88281476e94c175c73a363d87\", \"step_plot\": true, \"fill_graph\": false, \"title\": \"cpu_id: 2\", \"drawPoints\": false, \"per_line\": 1, \"height\": 400, \"rangesel\": false, \"data\": {\"labels\": [\"index\", \"Trace 0:sched_dl_grub:total_bw\"], \"data\": [[0.10849700000017037, 0], [0.10850000000027649, 0]]}};\n",
       "</script>\n",
       "<!-- TRAPPY_PUBLISH_SOURCE_LIB = \"http://cdnjs.cloudflare.com/ajax/libs/dygraph/1.1.1/dygraph-combined.js\" -->\n",
       "<!-- TRAPPY_PUBLISH_SOURCE_LIB = \"http://dygraphs.com/extras/synchronizer.js\" -->\n",
       "<!-- TRAPPY_PUBLISH_SOURCE_LIB = \"https://cdnjs.cloudflare.com/ajax/libs/underscore.js/1.8.3/underscore-min.js\" -->\n",
       "\n",
       "            <script>\n",
       "            /* TRAPPY_PUBLISH_IMPORT = \"plotter/js/ILinePlot.js\" */\n",
       "            /* TRAPPY_PUBLISH_REMOVE_START */\n",
       "            var ilp_req = require.config( {\n",
       "\n",
       "                paths: {\n",
       "                    \"dygraph-sync\": '/nbextensions/plotter_scripts/ILinePlot/synchronizer',\n",
       "                    \"dygraph\": '/nbextensions/plotter_scripts/ILinePlot/dygraph-combined',\n",
       "                    \"ILinePlot\": '/nbextensions/plotter_scripts/ILinePlot/ILinePlot',\n",
       "                    \"underscore\": '/nbextensions/plotter_scripts/ILinePlot/underscore-min',\n",
       "                },\n",
       "\n",
       "                shim: {\n",
       "                    \"dygraph-sync\": [\"dygraph\"],\n",
       "                    \"ILinePlot\": {\n",
       "\n",
       "                        \"deps\": [\"dygraph-sync\", \"dygraph\", \"underscore\"],\n",
       "                        \"exports\":  \"ILinePlot\"\n",
       "                    }\n",
       "                }\n",
       "            });\n",
       "                /* TRAPPY_PUBLISH_REMOVE_STOP */\n",
       "                ilp_req([\"require\", \"ILinePlot\"], function() { /* TRAPPY_PUBLISH_REMOVE_LINE */\n",
       "                ILinePlot.generate(fig_810109b88281476e94c175c73a363d87_data, [\"rgb(0, 0, 255)\"]);\n",
       "            }); /* TRAPPY_PUBLISH_REMOVE_LINE */\n",
       "            </script>\n",
       "        "
      ],
      "text/plain": [
       "<IPython.core.display.HTML object>"
      ]
     },
     "metadata": {},
     "output_type": "display_data"
    },
    {
     "name": "stdout",
     "output_type": "stream",
     "text": [
      "No data for cpu  3   No plots for the given constraints\n"
     ]
    }
   ],
   "source": [
    "for i in range (0, cpu_number):\n",
    "    try:\n",
    "        trappy.ILinePlot(tr.ftrace,\n",
    "                signals=[\n",
    "                            \"sched_dl_grub:total_bw:0x0,0x0,0xff\",\n",
    "                ],\n",
    "                pivot=\"cpu_id\",\n",
    "                filters={\"cpu_id\": [i]},\n",
    "                marker = '+',\n",
    "                drawstyle='steps-post',\n",
    "                per_line=1).view()\n",
    "    except Exception, err:\n",
    "        print \"No data for cpu \", i, \" \", err"
   ]
  },
  {
   "cell_type": "markdown",
   "metadata": {},
   "source": [
    "### Plot GRUB active bw"
   ]
  },
  {
   "cell_type": "code",
   "execution_count": 16,
   "metadata": {},
   "outputs": [
    {
     "data": {
      "text/html": [
       "<table style=\"border-style: hidden;\">\n",
       "<tr>\n",
       "<td style=\"border-style: hidden;\"><div class=\"ilineplot\" id=\"fig_a5285ec5b7f64b848195269db4f60289\"></div></td>\n",
       "</tr>\n",
       "<tr>\n",
       "<td style=\"border-style: hidden;\"><div style=\"text-align:center\" id=\"fig_a5285ec5b7f64b848195269db4f60289_legend\"></div></td>\n",
       "</tr>\n",
       "</table>\n",
       "<script>\n",
       "var fig_a5285ec5b7f64b848195269db4f60289_data = {\"logscale\": false, \"strokeWidth\": 1.0, \"pointSize\": 2, \"name\": \"fig_a5285ec5b7f64b848195269db4f60289\", \"step_plot\": true, \"fill_graph\": false, \"title\": \"cpu_id: 0\", \"drawPoints\": false, \"per_line\": 1, \"height\": 400, \"rangesel\": false, \"data\": {\"labels\": [\"index\", \"Trace 0:sched_dl_grub:running_bw\"], \"data\": [[0.023091000000022177, 0], [0.023097000000234402, 786432], [0.10847800000010466, 786432], [0.10848900000019057, 786432], [10.060798999999861, 0], [10.060822000000371, 0], [10.060833999999886, 0], [10.060838000000331, 786432], [10.060927000000447, 0], [10.060940000000301, 0]]}};\n",
       "</script>\n",
       "<!-- TRAPPY_PUBLISH_SOURCE_LIB = \"http://cdnjs.cloudflare.com/ajax/libs/dygraph/1.1.1/dygraph-combined.js\" -->\n",
       "<!-- TRAPPY_PUBLISH_SOURCE_LIB = \"http://dygraphs.com/extras/synchronizer.js\" -->\n",
       "<!-- TRAPPY_PUBLISH_SOURCE_LIB = \"https://cdnjs.cloudflare.com/ajax/libs/underscore.js/1.8.3/underscore-min.js\" -->\n",
       "\n",
       "            <script>\n",
       "            /* TRAPPY_PUBLISH_IMPORT = \"plotter/js/ILinePlot.js\" */\n",
       "            /* TRAPPY_PUBLISH_REMOVE_START */\n",
       "            var ilp_req = require.config( {\n",
       "\n",
       "                paths: {\n",
       "                    \"dygraph-sync\": '/nbextensions/plotter_scripts/ILinePlot/synchronizer',\n",
       "                    \"dygraph\": '/nbextensions/plotter_scripts/ILinePlot/dygraph-combined',\n",
       "                    \"ILinePlot\": '/nbextensions/plotter_scripts/ILinePlot/ILinePlot',\n",
       "                    \"underscore\": '/nbextensions/plotter_scripts/ILinePlot/underscore-min',\n",
       "                },\n",
       "\n",
       "                shim: {\n",
       "                    \"dygraph-sync\": [\"dygraph\"],\n",
       "                    \"ILinePlot\": {\n",
       "\n",
       "                        \"deps\": [\"dygraph-sync\", \"dygraph\", \"underscore\"],\n",
       "                        \"exports\":  \"ILinePlot\"\n",
       "                    }\n",
       "                }\n",
       "            });\n",
       "                /* TRAPPY_PUBLISH_REMOVE_STOP */\n",
       "                ilp_req([\"require\", \"ILinePlot\"], function() { /* TRAPPY_PUBLISH_REMOVE_LINE */\n",
       "                ILinePlot.generate(fig_a5285ec5b7f64b848195269db4f60289_data, [\"rgb(0, 255, 0)\"]);\n",
       "            }); /* TRAPPY_PUBLISH_REMOVE_LINE */\n",
       "            </script>\n",
       "        "
      ],
      "text/plain": [
       "<IPython.core.display.HTML object>"
      ]
     },
     "metadata": {},
     "output_type": "display_data"
    },
    {
     "data": {
      "text/html": [
       "<table style=\"border-style: hidden;\">\n",
       "<tr>\n",
       "<td style=\"border-style: hidden;\"><div class=\"ilineplot\" id=\"fig_15913d8c5d094fb6bb12eb051a7fae75\"></div></td>\n",
       "</tr>\n",
       "<tr>\n",
       "<td style=\"border-style: hidden;\"><div style=\"text-align:center\" id=\"fig_15913d8c5d094fb6bb12eb051a7fae75_legend\"></div></td>\n",
       "</tr>\n",
       "</table>\n",
       "<script>\n",
       "var fig_15913d8c5d094fb6bb12eb051a7fae75_data = {\"logscale\": false, \"strokeWidth\": 1.0, \"pointSize\": 2, \"name\": \"fig_15913d8c5d094fb6bb12eb051a7fae75\", \"step_plot\": true, \"fill_graph\": false, \"title\": \"cpu_id: 1\", \"drawPoints\": false, \"per_line\": 1, \"height\": 400, \"rangesel\": false, \"data\": {\"labels\": [\"index\", \"Trace 0:sched_dl_grub:running_bw\"], \"data\": [[0.023059000000102969, 0], [0.023065000000315194, 786432], [10.061408000000483, 0], [10.061423000000104, 0], [10.061427999999978, 0], [10.061429999999746, 786432], [10.061485999999604, 0], [10.06149699999969, 0]]}};\n",
       "</script>\n",
       "<!-- TRAPPY_PUBLISH_SOURCE_LIB = \"http://cdnjs.cloudflare.com/ajax/libs/dygraph/1.1.1/dygraph-combined.js\" -->\n",
       "<!-- TRAPPY_PUBLISH_SOURCE_LIB = \"http://dygraphs.com/extras/synchronizer.js\" -->\n",
       "<!-- TRAPPY_PUBLISH_SOURCE_LIB = \"https://cdnjs.cloudflare.com/ajax/libs/underscore.js/1.8.3/underscore-min.js\" -->\n",
       "\n",
       "            <script>\n",
       "            /* TRAPPY_PUBLISH_IMPORT = \"plotter/js/ILinePlot.js\" */\n",
       "            /* TRAPPY_PUBLISH_REMOVE_START */\n",
       "            var ilp_req = require.config( {\n",
       "\n",
       "                paths: {\n",
       "                    \"dygraph-sync\": '/nbextensions/plotter_scripts/ILinePlot/synchronizer',\n",
       "                    \"dygraph\": '/nbextensions/plotter_scripts/ILinePlot/dygraph-combined',\n",
       "                    \"ILinePlot\": '/nbextensions/plotter_scripts/ILinePlot/ILinePlot',\n",
       "                    \"underscore\": '/nbextensions/plotter_scripts/ILinePlot/underscore-min',\n",
       "                },\n",
       "\n",
       "                shim: {\n",
       "                    \"dygraph-sync\": [\"dygraph\"],\n",
       "                    \"ILinePlot\": {\n",
       "\n",
       "                        \"deps\": [\"dygraph-sync\", \"dygraph\", \"underscore\"],\n",
       "                        \"exports\":  \"ILinePlot\"\n",
       "                    }\n",
       "                }\n",
       "            });\n",
       "                /* TRAPPY_PUBLISH_REMOVE_STOP */\n",
       "                ilp_req([\"require\", \"ILinePlot\"], function() { /* TRAPPY_PUBLISH_REMOVE_LINE */\n",
       "                ILinePlot.generate(fig_15913d8c5d094fb6bb12eb051a7fae75_data, [\"rgb(0, 255, 0)\"]);\n",
       "            }); /* TRAPPY_PUBLISH_REMOVE_LINE */\n",
       "            </script>\n",
       "        "
      ],
      "text/plain": [
       "<IPython.core.display.HTML object>"
      ]
     },
     "metadata": {},
     "output_type": "display_data"
    },
    {
     "data": {
      "text/html": [
       "<table style=\"border-style: hidden;\">\n",
       "<tr>\n",
       "<td style=\"border-style: hidden;\"><div class=\"ilineplot\" id=\"fig_3a44671d6a9d4173b8dd09fd0895c378\"></div></td>\n",
       "</tr>\n",
       "<tr>\n",
       "<td style=\"border-style: hidden;\"><div style=\"text-align:center\" id=\"fig_3a44671d6a9d4173b8dd09fd0895c378_legend\"></div></td>\n",
       "</tr>\n",
       "</table>\n",
       "<script>\n",
       "var fig_3a44671d6a9d4173b8dd09fd0895c378_data = {\"logscale\": false, \"strokeWidth\": 1.0, \"pointSize\": 2, \"name\": \"fig_3a44671d6a9d4173b8dd09fd0895c378\", \"step_plot\": true, \"fill_graph\": false, \"title\": \"cpu_id: 2\", \"drawPoints\": false, \"per_line\": 1, \"height\": 400, \"rangesel\": false, \"data\": {\"labels\": [\"index\", \"Trace 0:sched_dl_grub:running_bw\"], \"data\": [[0.10849700000017037, 0], [0.10850000000027649, 0]]}};\n",
       "</script>\n",
       "<!-- TRAPPY_PUBLISH_SOURCE_LIB = \"http://cdnjs.cloudflare.com/ajax/libs/dygraph/1.1.1/dygraph-combined.js\" -->\n",
       "<!-- TRAPPY_PUBLISH_SOURCE_LIB = \"http://dygraphs.com/extras/synchronizer.js\" -->\n",
       "<!-- TRAPPY_PUBLISH_SOURCE_LIB = \"https://cdnjs.cloudflare.com/ajax/libs/underscore.js/1.8.3/underscore-min.js\" -->\n",
       "\n",
       "            <script>\n",
       "            /* TRAPPY_PUBLISH_IMPORT = \"plotter/js/ILinePlot.js\" */\n",
       "            /* TRAPPY_PUBLISH_REMOVE_START */\n",
       "            var ilp_req = require.config( {\n",
       "\n",
       "                paths: {\n",
       "                    \"dygraph-sync\": '/nbextensions/plotter_scripts/ILinePlot/synchronizer',\n",
       "                    \"dygraph\": '/nbextensions/plotter_scripts/ILinePlot/dygraph-combined',\n",
       "                    \"ILinePlot\": '/nbextensions/plotter_scripts/ILinePlot/ILinePlot',\n",
       "                    \"underscore\": '/nbextensions/plotter_scripts/ILinePlot/underscore-min',\n",
       "                },\n",
       "\n",
       "                shim: {\n",
       "                    \"dygraph-sync\": [\"dygraph\"],\n",
       "                    \"ILinePlot\": {\n",
       "\n",
       "                        \"deps\": [\"dygraph-sync\", \"dygraph\", \"underscore\"],\n",
       "                        \"exports\":  \"ILinePlot\"\n",
       "                    }\n",
       "                }\n",
       "            });\n",
       "                /* TRAPPY_PUBLISH_REMOVE_STOP */\n",
       "                ilp_req([\"require\", \"ILinePlot\"], function() { /* TRAPPY_PUBLISH_REMOVE_LINE */\n",
       "                ILinePlot.generate(fig_3a44671d6a9d4173b8dd09fd0895c378_data, [\"rgb(0, 255, 0)\"]);\n",
       "            }); /* TRAPPY_PUBLISH_REMOVE_LINE */\n",
       "            </script>\n",
       "        "
      ],
      "text/plain": [
       "<IPython.core.display.HTML object>"
      ]
     },
     "metadata": {},
     "output_type": "display_data"
    },
    {
     "name": "stdout",
     "output_type": "stream",
     "text": [
      "No data for cpu  3   No plots for the given constraints\n"
     ]
    }
   ],
   "source": [
    "for i in range (0, cpu_number):\n",
    "    try:\n",
    "        trappy.ILinePlot(tr.ftrace,\n",
    "                signals=[\n",
    "                            \"sched_dl_grub:running_bw:0x0,0xff,0x0\",\n",
    "                ],\n",
    "                pivot=\"cpu_id\",\n",
    "                filters={\"cpu_id\": [i]},\n",
    "                marker = '+',\n",
    "                drawstyle='steps-post',\n",
    "                per_line=1).view()\n",
    "    except Exception, err:\n",
    "        print \"No data for cpu \", i, \" \", err"
   ]
  }
 ],
 "metadata": {
  "celltoolbar": "Raw Cell Format",
  "kernelspec": {
   "display_name": "Python 2",
   "language": "python",
   "name": "python2"
  },
  "language_info": {
   "codemirror_mode": {
    "name": "ipython",
    "version": 2
   },
   "file_extension": ".py",
   "mimetype": "text/x-python",
   "name": "python",
   "nbconvert_exporter": "python",
   "pygments_lexer": "ipython2",
   "version": "2.7.12"
  }
 },
 "nbformat": 4,
 "nbformat_minor": 2
}
